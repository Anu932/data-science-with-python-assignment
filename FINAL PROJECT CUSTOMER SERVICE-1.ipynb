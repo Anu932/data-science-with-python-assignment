{
 "cells": [
  {
   "cell_type": "code",
   "execution_count": 49,
   "metadata": {},
   "outputs": [],
   "source": [
    "import pandas as pd\n",
    "import numpy as np\n",
    "import matplotlib.pyplot as plt\n",
    "import seaborn as sns\n",
    "%matplotlib inline"
   ]
  },
  {
   "cell_type": "code",
   "execution_count": 50,
   "metadata": {},
   "outputs": [
    {
     "name": "stderr",
     "output_type": "stream",
     "text": [
      "C:\\Users\\comac 12\\anaconda3\\lib\\site-packages\\IPython\\core\\interactiveshell.py:3071: DtypeWarning: Columns (48,49) have mixed types.Specify dtype option on import or set low_memory=False.\n",
      "  has_raised = await self.run_ast_nodes(code_ast.body, cell_name,\n"
     ]
    }
   ],
   "source": [
    "df = pd.read_csv('311_Service_Requests_from_2010_to_Present.csv')"
   ]
  },
  {
   "cell_type": "code",
   "execution_count": 51,
   "metadata": {},
   "outputs": [
    {
     "data": {
      "text/html": [
       "<div>\n",
       "<style scoped>\n",
       "    .dataframe tbody tr th:only-of-type {\n",
       "        vertical-align: middle;\n",
       "    }\n",
       "\n",
       "    .dataframe tbody tr th {\n",
       "        vertical-align: top;\n",
       "    }\n",
       "\n",
       "    .dataframe thead th {\n",
       "        text-align: right;\n",
       "    }\n",
       "</style>\n",
       "<table border=\"1\" class=\"dataframe\">\n",
       "  <thead>\n",
       "    <tr style=\"text-align: right;\">\n",
       "      <th></th>\n",
       "      <th>Unique Key</th>\n",
       "      <th>Created Date</th>\n",
       "      <th>Closed Date</th>\n",
       "      <th>Agency</th>\n",
       "      <th>Agency Name</th>\n",
       "      <th>Complaint Type</th>\n",
       "      <th>Descriptor</th>\n",
       "      <th>Location Type</th>\n",
       "      <th>Incident Zip</th>\n",
       "      <th>Incident Address</th>\n",
       "      <th>...</th>\n",
       "      <th>Bridge Highway Name</th>\n",
       "      <th>Bridge Highway Direction</th>\n",
       "      <th>Road Ramp</th>\n",
       "      <th>Bridge Highway Segment</th>\n",
       "      <th>Garage Lot Name</th>\n",
       "      <th>Ferry Direction</th>\n",
       "      <th>Ferry Terminal Name</th>\n",
       "      <th>Latitude</th>\n",
       "      <th>Longitude</th>\n",
       "      <th>Location</th>\n",
       "    </tr>\n",
       "  </thead>\n",
       "  <tbody>\n",
       "    <tr>\n",
       "      <th>0</th>\n",
       "      <td>32310363</td>\n",
       "      <td>12/31/2015 11:59:45 PM</td>\n",
       "      <td>01-01-16 0:55</td>\n",
       "      <td>NYPD</td>\n",
       "      <td>New York City Police Department</td>\n",
       "      <td>Noise - Street/Sidewalk</td>\n",
       "      <td>Loud Music/Party</td>\n",
       "      <td>Street/Sidewalk</td>\n",
       "      <td>10034.0</td>\n",
       "      <td>71 VERMILYEA AVENUE</td>\n",
       "      <td>...</td>\n",
       "      <td>NaN</td>\n",
       "      <td>NaN</td>\n",
       "      <td>NaN</td>\n",
       "      <td>NaN</td>\n",
       "      <td>NaN</td>\n",
       "      <td>NaN</td>\n",
       "      <td>NaN</td>\n",
       "      <td>40.865682</td>\n",
       "      <td>-73.923501</td>\n",
       "      <td>(40.86568153633767, -73.92350095571744)</td>\n",
       "    </tr>\n",
       "    <tr>\n",
       "      <th>1</th>\n",
       "      <td>32309934</td>\n",
       "      <td>12/31/2015 11:59:44 PM</td>\n",
       "      <td>01-01-16 1:26</td>\n",
       "      <td>NYPD</td>\n",
       "      <td>New York City Police Department</td>\n",
       "      <td>Blocked Driveway</td>\n",
       "      <td>No Access</td>\n",
       "      <td>Street/Sidewalk</td>\n",
       "      <td>11105.0</td>\n",
       "      <td>27-07 23 AVENUE</td>\n",
       "      <td>...</td>\n",
       "      <td>NaN</td>\n",
       "      <td>NaN</td>\n",
       "      <td>NaN</td>\n",
       "      <td>NaN</td>\n",
       "      <td>NaN</td>\n",
       "      <td>NaN</td>\n",
       "      <td>NaN</td>\n",
       "      <td>40.775945</td>\n",
       "      <td>-73.915094</td>\n",
       "      <td>(40.775945312321085, -73.91509393898605)</td>\n",
       "    </tr>\n",
       "    <tr>\n",
       "      <th>2</th>\n",
       "      <td>32309159</td>\n",
       "      <td>12/31/2015 11:59:29 PM</td>\n",
       "      <td>01-01-16 4:51</td>\n",
       "      <td>NYPD</td>\n",
       "      <td>New York City Police Department</td>\n",
       "      <td>Blocked Driveway</td>\n",
       "      <td>No Access</td>\n",
       "      <td>Street/Sidewalk</td>\n",
       "      <td>10458.0</td>\n",
       "      <td>2897 VALENTINE AVENUE</td>\n",
       "      <td>...</td>\n",
       "      <td>NaN</td>\n",
       "      <td>NaN</td>\n",
       "      <td>NaN</td>\n",
       "      <td>NaN</td>\n",
       "      <td>NaN</td>\n",
       "      <td>NaN</td>\n",
       "      <td>NaN</td>\n",
       "      <td>40.870325</td>\n",
       "      <td>-73.888525</td>\n",
       "      <td>(40.870324522111424, -73.88852464418646)</td>\n",
       "    </tr>\n",
       "    <tr>\n",
       "      <th>3</th>\n",
       "      <td>32305098</td>\n",
       "      <td>12/31/2015 11:57:46 PM</td>\n",
       "      <td>01-01-16 7:43</td>\n",
       "      <td>NYPD</td>\n",
       "      <td>New York City Police Department</td>\n",
       "      <td>Illegal Parking</td>\n",
       "      <td>Commercial Overnight Parking</td>\n",
       "      <td>Street/Sidewalk</td>\n",
       "      <td>10461.0</td>\n",
       "      <td>2940 BAISLEY AVENUE</td>\n",
       "      <td>...</td>\n",
       "      <td>NaN</td>\n",
       "      <td>NaN</td>\n",
       "      <td>NaN</td>\n",
       "      <td>NaN</td>\n",
       "      <td>NaN</td>\n",
       "      <td>NaN</td>\n",
       "      <td>NaN</td>\n",
       "      <td>40.835994</td>\n",
       "      <td>-73.828379</td>\n",
       "      <td>(40.83599404683083, -73.82837939584206)</td>\n",
       "    </tr>\n",
       "    <tr>\n",
       "      <th>4</th>\n",
       "      <td>32306529</td>\n",
       "      <td>12/31/2015 11:56:58 PM</td>\n",
       "      <td>01-01-16 3:24</td>\n",
       "      <td>NYPD</td>\n",
       "      <td>New York City Police Department</td>\n",
       "      <td>Illegal Parking</td>\n",
       "      <td>Blocked Sidewalk</td>\n",
       "      <td>Street/Sidewalk</td>\n",
       "      <td>11373.0</td>\n",
       "      <td>87-14 57 ROAD</td>\n",
       "      <td>...</td>\n",
       "      <td>NaN</td>\n",
       "      <td>NaN</td>\n",
       "      <td>NaN</td>\n",
       "      <td>NaN</td>\n",
       "      <td>NaN</td>\n",
       "      <td>NaN</td>\n",
       "      <td>NaN</td>\n",
       "      <td>40.733060</td>\n",
       "      <td>-73.874170</td>\n",
       "      <td>(40.733059618956815, -73.87416975810375)</td>\n",
       "    </tr>\n",
       "  </tbody>\n",
       "</table>\n",
       "<p>5 rows × 53 columns</p>\n",
       "</div>"
      ],
      "text/plain": [
       "   Unique Key            Created Date    Closed Date Agency  \\\n",
       "0    32310363  12/31/2015 11:59:45 PM  01-01-16 0:55   NYPD   \n",
       "1    32309934  12/31/2015 11:59:44 PM  01-01-16 1:26   NYPD   \n",
       "2    32309159  12/31/2015 11:59:29 PM  01-01-16 4:51   NYPD   \n",
       "3    32305098  12/31/2015 11:57:46 PM  01-01-16 7:43   NYPD   \n",
       "4    32306529  12/31/2015 11:56:58 PM  01-01-16 3:24   NYPD   \n",
       "\n",
       "                       Agency Name           Complaint Type  \\\n",
       "0  New York City Police Department  Noise - Street/Sidewalk   \n",
       "1  New York City Police Department         Blocked Driveway   \n",
       "2  New York City Police Department         Blocked Driveway   \n",
       "3  New York City Police Department          Illegal Parking   \n",
       "4  New York City Police Department          Illegal Parking   \n",
       "\n",
       "                     Descriptor    Location Type  Incident Zip  \\\n",
       "0              Loud Music/Party  Street/Sidewalk       10034.0   \n",
       "1                     No Access  Street/Sidewalk       11105.0   \n",
       "2                     No Access  Street/Sidewalk       10458.0   \n",
       "3  Commercial Overnight Parking  Street/Sidewalk       10461.0   \n",
       "4              Blocked Sidewalk  Street/Sidewalk       11373.0   \n",
       "\n",
       "        Incident Address  ... Bridge Highway Name Bridge Highway Direction  \\\n",
       "0    71 VERMILYEA AVENUE  ...                 NaN                      NaN   \n",
       "1        27-07 23 AVENUE  ...                 NaN                      NaN   \n",
       "2  2897 VALENTINE AVENUE  ...                 NaN                      NaN   \n",
       "3    2940 BAISLEY AVENUE  ...                 NaN                      NaN   \n",
       "4          87-14 57 ROAD  ...                 NaN                      NaN   \n",
       "\n",
       "  Road Ramp Bridge Highway Segment Garage Lot Name Ferry Direction  \\\n",
       "0       NaN                    NaN             NaN             NaN   \n",
       "1       NaN                    NaN             NaN             NaN   \n",
       "2       NaN                    NaN             NaN             NaN   \n",
       "3       NaN                    NaN             NaN             NaN   \n",
       "4       NaN                    NaN             NaN             NaN   \n",
       "\n",
       "  Ferry Terminal Name   Latitude  Longitude  \\\n",
       "0                 NaN  40.865682 -73.923501   \n",
       "1                 NaN  40.775945 -73.915094   \n",
       "2                 NaN  40.870325 -73.888525   \n",
       "3                 NaN  40.835994 -73.828379   \n",
       "4                 NaN  40.733060 -73.874170   \n",
       "\n",
       "                                   Location  \n",
       "0   (40.86568153633767, -73.92350095571744)  \n",
       "1  (40.775945312321085, -73.91509393898605)  \n",
       "2  (40.870324522111424, -73.88852464418646)  \n",
       "3   (40.83599404683083, -73.82837939584206)  \n",
       "4  (40.733059618956815, -73.87416975810375)  \n",
       "\n",
       "[5 rows x 53 columns]"
      ]
     },
     "execution_count": 51,
     "metadata": {},
     "output_type": "execute_result"
    }
   ],
   "source": [
    "df.head()\n"
   ]
  },
  {
   "cell_type": "code",
   "execution_count": 52,
   "metadata": {},
   "outputs": [
    {
     "name": "stdout",
     "output_type": "stream",
     "text": [
      "<class 'pandas.core.frame.DataFrame'>\n",
      "RangeIndex: 300698 entries, 0 to 300697\n",
      "Data columns (total 53 columns):\n",
      " #   Column                          Non-Null Count   Dtype  \n",
      "---  ------                          --------------   -----  \n",
      " 0   Unique Key                      300698 non-null  int64  \n",
      " 1   Created Date                    300698 non-null  object \n",
      " 2   Closed Date                     298534 non-null  object \n",
      " 3   Agency                          300698 non-null  object \n",
      " 4   Agency Name                     300698 non-null  object \n",
      " 5   Complaint Type                  300698 non-null  object \n",
      " 6   Descriptor                      294784 non-null  object \n",
      " 7   Location Type                   300567 non-null  object \n",
      " 8   Incident Zip                    298083 non-null  float64\n",
      " 9   Incident Address                256288 non-null  object \n",
      " 10  Street Name                     256288 non-null  object \n",
      " 11  Cross Street 1                  251419 non-null  object \n",
      " 12  Cross Street 2                  250919 non-null  object \n",
      " 13  Intersection Street 1           43858 non-null   object \n",
      " 14  Intersection Street 2           43362 non-null   object \n",
      " 15  Address Type                    297883 non-null  object \n",
      " 16  City                            298084 non-null  object \n",
      " 17  Landmark                        349 non-null     object \n",
      " 18  Facility Type                   298527 non-null  object \n",
      " 19  Status                          300698 non-null  object \n",
      " 20  Due Date                        300695 non-null  object \n",
      " 21  Resolution Description          300698 non-null  object \n",
      " 22  Resolution Action Updated Date  298511 non-null  object \n",
      " 23  Community Board                 300698 non-null  object \n",
      " 24  Borough                         300698 non-null  object \n",
      " 25  X Coordinate (State Plane)      297158 non-null  float64\n",
      " 26  Y Coordinate (State Plane)      297158 non-null  float64\n",
      " 27  Park Facility Name              300698 non-null  object \n",
      " 28  Park Borough                    300698 non-null  object \n",
      " 29  School Name                     300698 non-null  object \n",
      " 30  School Number                   300698 non-null  object \n",
      " 31  School Region                   300697 non-null  object \n",
      " 32  School Code                     300697 non-null  object \n",
      " 33  School Phone Number             300698 non-null  object \n",
      " 34  School Address                  300698 non-null  object \n",
      " 35  School City                     300698 non-null  object \n",
      " 36  School State                    300698 non-null  object \n",
      " 37  School Zip                      300697 non-null  object \n",
      " 38  School Not Found                300698 non-null  object \n",
      " 39  School or Citywide Complaint    0 non-null       float64\n",
      " 40  Vehicle Type                    0 non-null       float64\n",
      " 41  Taxi Company Borough            0 non-null       float64\n",
      " 42  Taxi Pick Up Location           0 non-null       float64\n",
      " 43  Bridge Highway Name             243 non-null     object \n",
      " 44  Bridge Highway Direction        243 non-null     object \n",
      " 45  Road Ramp                       213 non-null     object \n",
      " 46  Bridge Highway Segment          213 non-null     object \n",
      " 47  Garage Lot Name                 0 non-null       float64\n",
      " 48  Ferry Direction                 1 non-null       object \n",
      " 49  Ferry Terminal Name             2 non-null       object \n",
      " 50  Latitude                        297158 non-null  float64\n",
      " 51  Longitude                       297158 non-null  float64\n",
      " 52  Location                        297158 non-null  object \n",
      "dtypes: float64(10), int64(1), object(42)\n",
      "memory usage: 121.6+ MB\n"
     ]
    }
   ],
   "source": [
    "df.info()"
   ]
  },
  {
   "cell_type": "code",
   "execution_count": 53,
   "metadata": {},
   "outputs": [
    {
     "data": {
      "text/plain": [
       "(300698, 53)"
      ]
     },
     "execution_count": 53,
     "metadata": {},
     "output_type": "execute_result"
    }
   ],
   "source": [
    "df.shape"
   ]
  },
  {
   "cell_type": "code",
   "execution_count": 54,
   "metadata": {},
   "outputs": [
    {
     "data": {
      "text/plain": [
       "Unique Key                          0.000000\n",
       "Created Date                        0.000000\n",
       "Closed Date                         0.719659\n",
       "Agency                              0.000000\n",
       "Agency Name                         0.000000\n",
       "Complaint Type                      0.000000\n",
       "Descriptor                          1.966757\n",
       "Location Type                       0.043565\n",
       "Incident Zip                        0.869643\n",
       "Incident Address                   14.768971\n",
       "Street Name                        14.768971\n",
       "Cross Street 1                     16.388203\n",
       "Cross Street 2                     16.554483\n",
       "Intersection Street 1              85.414602\n",
       "Intersection Street 2              85.579552\n",
       "Address Type                        0.936155\n",
       "City                                0.869311\n",
       "Landmark                           99.883937\n",
       "Facility Type                       0.721987\n",
       "Status                              0.000000\n",
       "Due Date                            0.000998\n",
       "Resolution Description              0.000000\n",
       "Resolution Action Updated Date      0.727308\n",
       "Community Board                     0.000000\n",
       "Borough                             0.000000\n",
       "X Coordinate (State Plane)          1.177261\n",
       "Y Coordinate (State Plane)          1.177261\n",
       "Park Facility Name                  0.000000\n",
       "Park Borough                        0.000000\n",
       "School Name                         0.000000\n",
       "School Number                       0.000000\n",
       "School Region                       0.000333\n",
       "School Code                         0.000333\n",
       "School Phone Number                 0.000000\n",
       "School Address                      0.000000\n",
       "School City                         0.000000\n",
       "School State                        0.000000\n",
       "School Zip                          0.000333\n",
       "School Not Found                    0.000000\n",
       "School or Citywide Complaint      100.000000\n",
       "Vehicle Type                      100.000000\n",
       "Taxi Company Borough              100.000000\n",
       "Taxi Pick Up Location             100.000000\n",
       "Bridge Highway Name                99.919188\n",
       "Bridge Highway Direction           99.919188\n",
       "Road Ramp                          99.929165\n",
       "Bridge Highway Segment             99.929165\n",
       "Garage Lot Name                   100.000000\n",
       "Ferry Direction                    99.999667\n",
       "Ferry Terminal Name                99.999335\n",
       "Latitude                            1.177261\n",
       "Longitude                           1.177261\n",
       "Location                            1.177261\n",
       "dtype: float64"
      ]
     },
     "execution_count": 54,
     "metadata": {},
     "output_type": "execute_result"
    }
   ],
   "source": [
    "df.isnull().sum()/len(df)*100"
   ]
  },
  {
   "cell_type": "code",
   "execution_count": 55,
   "metadata": {},
   "outputs": [],
   "source": [
    "#Dropping columns with more than 30% null values:\n",
    "df.drop(labels=['Intersection Street 1',\n",
    "                     'Intersection Street 2',\n",
    "                     'Landmark',\n",
    "                     'Vehicle Type',   \n",
    "                     'School or Citywide Complaint', \n",
    "                     'Taxi Company Borough',\n",
    "                     'Taxi Pick Up Location',\n",
    "                     'Bridge Highway Name',\n",
    "                     'Bridge Highway Direction',\n",
    "                     'Road Ramp',\n",
    "                     'Bridge Highway Segment',\n",
    "                     'Garage Lot Name',\n",
    "                     'Ferry Direction',\n",
    "                     'Ferry Terminal Name',\n",
    "                     ],axis=1, inplace=True)"
   ]
  },
  {
   "cell_type": "code",
   "execution_count": 56,
   "metadata": {},
   "outputs": [],
   "source": [
    " # percentage of missing values greater than 5% and less than 30%: Replacing values with mode\n",
    "df['Incident Address'].fillna(value=df['Incident Address'].mode()[0],inplace=True)\n",
    "df['Street Name'].fillna(value=df['Street Name'].mode()[0],inplace=True)\n",
    "df['Cross Street 1'].fillna(value=df['Cross Street 1'].mode()[0],inplace=True)\n",
    "df['Cross Street 2'].fillna(value=df['Cross Street 2'].mode()[0],inplace=True)"
   ]
  },
  {
   "cell_type": "code",
   "execution_count": 57,
   "metadata": {},
   "outputs": [],
   "source": [
    "#percentage of missing value in column is less than 5%, so dropping rows:\n",
    "['Closed Date','Descriptor','Location Type','Incident Zip','Adddress Type','City','Facility Type','Due Date',\n",
    " 'Resolution Action updated Date','X Coordinate (State Plane)','Y Coordinate (State Plane)','School Region',\n",
    " 'School Code','School Zip','Latitude','Longitude','Location']\n",
    "df.dropna(inplace=True)"
   ]
  },
  {
   "cell_type": "code",
   "execution_count": 58,
   "metadata": {},
   "outputs": [
    {
     "name": "stdout",
     "output_type": "stream",
     "text": [
      "<class 'pandas.core.frame.DataFrame'>\n",
      "Int64Index: 290881 entries, 0 to 300697\n",
      "Data columns (total 39 columns):\n",
      " #   Column                          Non-Null Count   Dtype  \n",
      "---  ------                          --------------   -----  \n",
      " 0   Unique Key                      290881 non-null  int64  \n",
      " 1   Created Date                    290881 non-null  object \n",
      " 2   Closed Date                     290881 non-null  object \n",
      " 3   Agency                          290881 non-null  object \n",
      " 4   Agency Name                     290881 non-null  object \n",
      " 5   Complaint Type                  290881 non-null  object \n",
      " 6   Descriptor                      290881 non-null  object \n",
      " 7   Location Type                   290881 non-null  object \n",
      " 8   Incident Zip                    290881 non-null  float64\n",
      " 9   Incident Address                290881 non-null  object \n",
      " 10  Street Name                     290881 non-null  object \n",
      " 11  Cross Street 1                  290881 non-null  object \n",
      " 12  Cross Street 2                  290881 non-null  object \n",
      " 13  Address Type                    290881 non-null  object \n",
      " 14  City                            290881 non-null  object \n",
      " 15  Facility Type                   290881 non-null  object \n",
      " 16  Status                          290881 non-null  object \n",
      " 17  Due Date                        290881 non-null  object \n",
      " 18  Resolution Description          290881 non-null  object \n",
      " 19  Resolution Action Updated Date  290881 non-null  object \n",
      " 20  Community Board                 290881 non-null  object \n",
      " 21  Borough                         290881 non-null  object \n",
      " 22  X Coordinate (State Plane)      290881 non-null  float64\n",
      " 23  Y Coordinate (State Plane)      290881 non-null  float64\n",
      " 24  Park Facility Name              290881 non-null  object \n",
      " 25  Park Borough                    290881 non-null  object \n",
      " 26  School Name                     290881 non-null  object \n",
      " 27  School Number                   290881 non-null  object \n",
      " 28  School Region                   290881 non-null  object \n",
      " 29  School Code                     290881 non-null  object \n",
      " 30  School Phone Number             290881 non-null  object \n",
      " 31  School Address                  290881 non-null  object \n",
      " 32  School City                     290881 non-null  object \n",
      " 33  School State                    290881 non-null  object \n",
      " 34  School Zip                      290881 non-null  object \n",
      " 35  School Not Found                290881 non-null  object \n",
      " 36  Latitude                        290881 non-null  float64\n",
      " 37  Longitude                       290881 non-null  float64\n",
      " 38  Location                        290881 non-null  object \n",
      "dtypes: float64(5), int64(1), object(33)\n",
      "memory usage: 88.8+ MB\n"
     ]
    }
   ],
   "source": [
    "df.info()"
   ]
  },
  {
   "cell_type": "code",
   "execution_count": 59,
   "metadata": {},
   "outputs": [
    {
     "data": {
      "text/plain": [
       "(290881, 39)"
      ]
     },
     "execution_count": 59,
     "metadata": {},
     "output_type": "execute_result"
    }
   ],
   "source": [
    "df.shape"
   ]
  },
  {
   "cell_type": "code",
   "execution_count": 60,
   "metadata": {},
   "outputs": [
    {
     "data": {
      "text/plain": [
       "Unique Key                        0\n",
       "Created Date                      0\n",
       "Closed Date                       0\n",
       "Agency                            0\n",
       "Agency Name                       0\n",
       "Complaint Type                    0\n",
       "Descriptor                        0\n",
       "Location Type                     0\n",
       "Incident Zip                      0\n",
       "Incident Address                  0\n",
       "Street Name                       0\n",
       "Cross Street 1                    0\n",
       "Cross Street 2                    0\n",
       "Address Type                      0\n",
       "City                              0\n",
       "Facility Type                     0\n",
       "Status                            0\n",
       "Due Date                          0\n",
       "Resolution Description            0\n",
       "Resolution Action Updated Date    0\n",
       "Community Board                   0\n",
       "Borough                           0\n",
       "X Coordinate (State Plane)        0\n",
       "Y Coordinate (State Plane)        0\n",
       "Park Facility Name                0\n",
       "Park Borough                      0\n",
       "School Name                       0\n",
       "School Number                     0\n",
       "School Region                     0\n",
       "School Code                       0\n",
       "School Phone Number               0\n",
       "School Address                    0\n",
       "School City                       0\n",
       "School State                      0\n",
       "School Zip                        0\n",
       "School Not Found                  0\n",
       "Latitude                          0\n",
       "Longitude                         0\n",
       "Location                          0\n",
       "dtype: int64"
      ]
     },
     "execution_count": 60,
     "metadata": {},
     "output_type": "execute_result"
    }
   ],
   "source": [
    "df.isnull().sum()"
   ]
  },
  {
   "cell_type": "code",
   "execution_count": 61,
   "metadata": {},
   "outputs": [],
   "source": [
    "# convert the columns ‘Created Date’ and Closed Date’ to datetime datatype.\n",
    "df['Created Date'] = pd.to_datetime(df['Created Date'])\n",
    "df['Closed Date'] = pd.to_datetime(df['Closed Date'])"
   ]
  },
  {
   "cell_type": "code",
   "execution_count": 62,
   "metadata": {},
   "outputs": [],
   "source": [
    "d = df['Closed Date'] - df['Created Date']"
   ]
  },
  {
   "cell_type": "code",
   "execution_count": 63,
   "metadata": {
    "scrolled": true
   },
   "outputs": [],
   "source": [
    "df['Request_Closing_Time'] = d.dt.seconds/3600"
   ]
  },
  {
   "cell_type": "code",
   "execution_count": 64,
   "metadata": {},
   "outputs": [
    {
     "data": {
      "text/plain": [
       "Index(['Unique Key', 'Created Date', 'Closed Date', 'Agency', 'Agency Name',\n",
       "       'Complaint Type', 'Descriptor', 'Location Type', 'Incident Zip',\n",
       "       'Incident Address', 'Street Name', 'Cross Street 1', 'Cross Street 2',\n",
       "       'Address Type', 'City', 'Facility Type', 'Status', 'Due Date',\n",
       "       'Resolution Description', 'Resolution Action Updated Date',\n",
       "       'Community Board', 'Borough', 'X Coordinate (State Plane)',\n",
       "       'Y Coordinate (State Plane)', 'Park Facility Name', 'Park Borough',\n",
       "       'School Name', 'School Number', 'School Region', 'School Code',\n",
       "       'School Phone Number', 'School Address', 'School City', 'School State',\n",
       "       'School Zip', 'School Not Found', 'Latitude', 'Longitude', 'Location',\n",
       "       'Request_Closing_Time'],\n",
       "      dtype='object')"
      ]
     },
     "execution_count": 64,
     "metadata": {},
     "output_type": "execute_result"
    }
   ],
   "source": [
    "df.keys()"
   ]
  },
  {
   "cell_type": "code",
   "execution_count": 65,
   "metadata": {},
   "outputs": [
    {
     "data": {
      "text/plain": [
       "0         0.920833\n",
       "1         1.437778\n",
       "2         4.858611\n",
       "3         7.753889\n",
       "4         3.450556\n",
       "            ...   \n",
       "300692    0.641389\n",
       "300694    2.008611\n",
       "300695    3.121389\n",
       "300696    4.092500\n",
       "300697    4.146944\n",
       "Name: Request_Closing_Time, Length: 290881, dtype: float64"
      ]
     },
     "execution_count": 65,
     "metadata": {},
     "output_type": "execute_result"
    }
   ],
   "source": [
    "df['Request_Closing_Time']"
   ]
  },
  {
   "cell_type": "code",
   "execution_count": 66,
   "metadata": {
    "scrolled": true
   },
   "outputs": [
    {
     "data": {
      "text/plain": [
       "array(['New York City Police Department'], dtype=object)"
      ]
     },
     "execution_count": 66,
     "metadata": {},
     "output_type": "execute_result"
    }
   ],
   "source": [
    "df['Agency Name'].unique()"
   ]
  },
  {
   "cell_type": "code",
   "execution_count": 67,
   "metadata": {
    "scrolled": true
   },
   "outputs": [
    {
     "data": {
      "text/plain": [
       "New York City Police Department    290881\n",
       "Name: Agency Name, dtype: int64"
      ]
     },
     "execution_count": 67,
     "metadata": {},
     "output_type": "execute_result"
    }
   ],
   "source": [
    "df['Agency Name'].value_counts()"
   ]
  },
  {
   "cell_type": "code",
   "execution_count": 68,
   "metadata": {},
   "outputs": [
    {
     "data": {
      "text/plain": [
       "Blocked Driveway            76675\n",
       "Illegal Parking             74020\n",
       "Noise - Street/Sidewalk     47745\n",
       "Noise - Commercial          35144\n",
       "Derelict Vehicle            17496\n",
       "Noise - Vehicle             16867\n",
       "Animal Abuse                 7743\n",
       "Traffic                      4256\n",
       "Noise - Park                 3927\n",
       "Vending                      3773\n",
       "Drinking                     1270\n",
       "Noise - House of Worship      920\n",
       "Posting Advertisement         647\n",
       "Disorderly Youth              285\n",
       "Graffiti                      113\n",
       "Name: Complaint Type, dtype: int64"
      ]
     },
     "execution_count": 68,
     "metadata": {},
     "output_type": "execute_result"
    }
   ],
   "source": [
    "df['Complaint Type'].value_counts()"
   ]
  },
  {
   "cell_type": "code",
   "execution_count": 69,
   "metadata": {},
   "outputs": [
    {
     "data": {
      "text/plain": [
       "<matplotlib.axes._subplots.AxesSubplot at 0xb61c31e1c0>"
      ]
     },
     "execution_count": 69,
     "metadata": {},
     "output_type": "execute_result"
    },
    {
     "data": {
      "image/png": "[encoded data removed]",
      "text/plain": [
       "<Figure size 432x288 with 1 Axes>"
      ]
     },
     "metadata": {},
     "output_type": "display_data"
    }
   ],
   "source": [
    "df['Complaint Type'].value_counts().head(10).plot(kind='pie')"
   ]
  },
  {
   "cell_type": "code",
   "execution_count": 70,
   "metadata": {},
   "outputs": [
    {
     "data": {
      "text/plain": [
       "Street/Sidewalk               242760\n",
       "Store/Commercial               19425\n",
       "Club/Bar/Restaurant            17172\n",
       "Residential Building/House      5752\n",
       "Park/Playground                 4246\n",
       "House of Worship                 920\n",
       "Residential Building             226\n",
       "Parking Lot                      116\n",
       "House and Store                   93\n",
       "Vacant Lot                        77\n",
       "Commercial                        62\n",
       "Subway Station                    22\n",
       "Highway                            5\n",
       "Roadway Tunnel                     5\n",
       "Name: Location Type, dtype: int64"
      ]
     },
     "execution_count": 70,
     "metadata": {},
     "output_type": "execute_result"
    }
   ],
   "source": [
    "df['Location Type'].value_counts()"
   ]
  },
  {
   "cell_type": "code",
   "execution_count": 71,
   "metadata": {},
   "outputs": [
    {
     "data": {
      "text/plain": [
       "<matplotlib.axes._subplots.AxesSubplot at 0xb60f61f8b0>"
      ]
     },
     "execution_count": 71,
     "metadata": {},
     "output_type": "execute_result"
    },
    {
     "data": {
      "image/png": "[encoded data removed]",
      "text/plain": [
       "<Figure size 432x288 with 1 Axes>"
      ]
     },
     "metadata": {
      "needs_background": "light"
     },
     "output_type": "display_data"
    }
   ],
   "source": [
    "df['Location Type'].value_counts().head(10).plot(kind='bar')"
   ]
  },
  {
   "cell_type": "code",
   "execution_count": 72,
   "metadata": {},
   "outputs": [
    {
     "data": {
      "text/plain": [
       "<matplotlib.axes._subplots.AxesSubplot at 0xb60f7ecb50>"
      ]
     },
     "execution_count": 72,
     "metadata": {},
     "output_type": "execute_result"
    },
    {
     "data": {
      "image/png": "[encoded data removed]",
      "text/plain": [
       "<Figure size 432x288 with 1 Axes>"
      ]
     },
     "metadata": {
      "needs_background": "light"
     },
     "output_type": "display_data"
    }
   ],
   "source": [
    "sns.distplot(df['Request_Closing_Time'])"
   ]
  },
  {
   "cell_type": "code",
   "execution_count": 73,
   "metadata": {},
   "outputs": [
    {
     "data": {
      "text/plain": [
       "count    290881.000000\n",
       "mean          3.925422\n",
       "std           3.857343\n",
       "min           0.000000\n",
       "25%           1.266667\n",
       "50%           2.684722\n",
       "75%           5.257500\n",
       "max          23.998611\n",
       "Name: Request_Closing_Time, dtype: float64"
      ]
     },
     "execution_count": 73,
     "metadata": {},
     "output_type": "execute_result"
    }
   ],
   "source": [
    "df['Request_Closing_Time'].describe()"
   ]
  },
  {
   "cell_type": "markdown",
   "metadata": {},
   "source": [
    "## *major insights/patterns with 4 major conclusions*:\n",
    "\n",
    "  ### 1) Top 5 \"location type\" having maximum complaints\n",
    "   -  Street/Sidewalk             \n",
    "   -  Store/Commercial               \n",
    "   -  Club/Bar/Restaurant            \n",
    "   -  Residential Building/House     \n",
    "   -  Park/Playground  \n",
    "   \n",
    "   \n",
    " ### 2) Top 5 \"complaint type\" received\n",
    "   -  Street/Sidewalk               \n",
    "   -  Store/Commercial               \n",
    "   -  Club/Bar/Restaurant            \n",
    "   -  Residential Building/House     \n",
    "   -  Park/Playground    \n",
    "   \n",
    "   \n",
    "   \n",
    "   **3) Out of the 3 Agencies, maximum complaints falls under the New York City Police Department** \n",
    "   \n",
    "   **4) The mean/average time to resolve the complaints is 3.92**"
   ]
  },
  {
   "cell_type": "markdown",
   "metadata": {},
   "source": [
    "# Q.N.4.  ‘Request_Closing_Time’, grouping them for different locations.\n"
   ]
  },
  {
   "cell_type": "code",
   "execution_count": 74,
   "metadata": {},
   "outputs": [],
   "source": [
    "df_City_hours = df[['City','Request_Closing_Time']]"
   ]
  },
  {
   "cell_type": "code",
   "execution_count": 75,
   "metadata": {},
   "outputs": [],
   "source": [
    "df_Request_Closing_Time_City = df_City_hours.groupby(by='City').mean()"
   ]
  },
  {
   "cell_type": "code",
   "execution_count": 213,
   "metadata": {},
   "outputs": [
    {
     "data": {
      "text/html": [
       "<div>\n",
       "<style scoped>\n",
       "    .dataframe tbody tr th:only-of-type {\n",
       "        vertical-align: middle;\n",
       "    }\n",
       "\n",
       "    .dataframe tbody tr th {\n",
       "        vertical-align: top;\n",
       "    }\n",
       "\n",
       "    .dataframe thead th {\n",
       "        text-align: right;\n",
       "    }\n",
       "</style>\n",
       "<table border=\"1\" class=\"dataframe\">\n",
       "  <thead>\n",
       "    <tr style=\"text-align: right;\">\n",
       "      <th></th>\n",
       "      <th>Request_Closing_Time</th>\n",
       "    </tr>\n",
       "    <tr>\n",
       "      <th>City</th>\n",
       "      <th></th>\n",
       "    </tr>\n",
       "  </thead>\n",
       "  <tbody>\n",
       "    <tr>\n",
       "      <th>ARVERNE</th>\n",
       "      <td>2.286446</td>\n",
       "    </tr>\n",
       "    <tr>\n",
       "      <th>ASTORIA</th>\n",
       "      <td>4.428046</td>\n",
       "    </tr>\n",
       "    <tr>\n",
       "      <th>Astoria</th>\n",
       "      <td>4.050527</td>\n",
       "    </tr>\n",
       "    <tr>\n",
       "      <th>BAYSIDE</th>\n",
       "      <td>2.685011</td>\n",
       "    </tr>\n",
       "    <tr>\n",
       "      <th>BELLEROSE</th>\n",
       "      <td>5.993409</td>\n",
       "    </tr>\n",
       "  </tbody>\n",
       "</table>\n",
       "</div>"
      ],
      "text/plain": [
       "           Request_Closing_Time\n",
       "City                           \n",
       "ARVERNE                2.286446\n",
       "ASTORIA                4.428046\n",
       "Astoria                4.050527\n",
       "BAYSIDE                2.685011\n",
       "BELLEROSE              5.993409"
      ]
     },
     "execution_count": 213,
     "metadata": {},
     "output_type": "execute_result"
    }
   ],
   "source": [
    "df_Request_Closing_Time_City.head()"
   ]
  },
  {
   "cell_type": "code",
   "execution_count": 78,
   "metadata": {},
   "outputs": [],
   "source": [
    "df1 = df_Request_Closing_Time_City.reset_index()"
   ]
  },
  {
   "cell_type": "code",
   "execution_count": 79,
   "metadata": {},
   "outputs": [
    {
     "data": {
      "text/plain": [
       "Index(['City', 'Request_Closing_Time'], dtype='object')"
      ]
     },
     "execution_count": 79,
     "metadata": {},
     "output_type": "execute_result"
    }
   ],
   "source": [
    "df1.keys()"
   ]
  },
  {
   "cell_type": "code",
   "execution_count": 80,
   "metadata": {},
   "outputs": [
    {
     "data": {
      "text/plain": [
       "<matplotlib.axes._subplots.AxesSubplot at 0xb60f4f7ee0>"
      ]
     },
     "execution_count": 80,
     "metadata": {},
     "output_type": "execute_result"
    },
    {
     "data": {
      "image/png": "[encoded data removed]",
      "text/plain": [
       "<Figure size 720x432 with 1 Axes>"
      ]
     },
     "metadata": {
      "needs_background": "light"
     },
     "output_type": "display_data"
    }
   ],
   "source": [
    "fig,ax = plt.subplots(figsize=(10,6))\n",
    "df_Request_Closing_Time_City.plot(kind='bar',ax=ax)"
   ]
  },
  {
   "cell_type": "code",
   "execution_count": 81,
   "metadata": {},
   "outputs": [],
   "source": [
    "df_city_complaint_hours = df[['City','Complaint Type','Request_Closing_Time']]"
   ]
  },
  {
   "cell_type": "code",
   "execution_count": 82,
   "metadata": {},
   "outputs": [],
   "source": [
    "df_city_Request_Closing_Time = df_city_complaint_hours.groupby(by=['City','Complaint Type']).mean()"
   ]
  },
  {
   "cell_type": "code",
   "execution_count": 83,
   "metadata": {},
   "outputs": [
    {
     "data": {
      "text/html": [
       "<div>\n",
       "<style scoped>\n",
       "    .dataframe tbody tr th:only-of-type {\n",
       "        vertical-align: middle;\n",
       "    }\n",
       "\n",
       "    .dataframe tbody tr th {\n",
       "        vertical-align: top;\n",
       "    }\n",
       "\n",
       "    .dataframe thead th {\n",
       "        text-align: right;\n",
       "    }\n",
       "</style>\n",
       "<table border=\"1\" class=\"dataframe\">\n",
       "  <thead>\n",
       "    <tr style=\"text-align: right;\">\n",
       "      <th></th>\n",
       "      <th></th>\n",
       "      <th>Request_Closing_Time</th>\n",
       "    </tr>\n",
       "    <tr>\n",
       "      <th>City</th>\n",
       "      <th>Complaint Type</th>\n",
       "      <th></th>\n",
       "    </tr>\n",
       "  </thead>\n",
       "  <tbody>\n",
       "    <tr>\n",
       "      <th>ROSEDALE</th>\n",
       "      <th>Graffiti</th>\n",
       "      <td>0.156389</td>\n",
       "    </tr>\n",
       "    <tr>\n",
       "      <th>ARVERNE</th>\n",
       "      <th>Drinking</th>\n",
       "      <td>0.238611</td>\n",
       "    </tr>\n",
       "    <tr>\n",
       "      <th>RIDGEWOOD</th>\n",
       "      <th>Posting Advertisement</th>\n",
       "      <td>0.248611</td>\n",
       "    </tr>\n",
       "    <tr>\n",
       "      <th>ARVERNE</th>\n",
       "      <th>Vending</th>\n",
       "      <td>0.483333</td>\n",
       "    </tr>\n",
       "    <tr>\n",
       "      <th rowspan=\"3\" valign=\"top\">SUNNYSIDE</th>\n",
       "      <th>Graffiti</th>\n",
       "      <td>0.592500</td>\n",
       "    </tr>\n",
       "    <tr>\n",
       "      <th>...</th>\n",
       "      <td>...</td>\n",
       "    </tr>\n",
       "    <tr>\n",
       "      <th>Animal Abuse</th>\n",
       "      <td>9.495762</td>\n",
       "    </tr>\n",
       "    <tr>\n",
       "      <th>STATEN ISLAND</th>\n",
       "      <th>Graffiti</th>\n",
       "      <td>9.562361</td>\n",
       "    </tr>\n",
       "    <tr>\n",
       "      <th>SPRINGFIELD GARDENS</th>\n",
       "      <th>Traffic</th>\n",
       "      <td>9.646358</td>\n",
       "    </tr>\n",
       "    <tr>\n",
       "      <th>COLLEGE POINT</th>\n",
       "      <th>Graffiti</th>\n",
       "      <td>11.864167</td>\n",
       "    </tr>\n",
       "    <tr>\n",
       "      <th>GLEN OAKS</th>\n",
       "      <th>Animal Abuse</th>\n",
       "      <td>12.992944</td>\n",
       "    </tr>\n",
       "  </tbody>\n",
       "</table>\n",
       "<p>618 rows × 1 columns</p>\n",
       "</div>"
      ],
      "text/plain": [
       "                                           Request_Closing_Time\n",
       "City                Complaint Type                             \n",
       "ROSEDALE            Graffiti                           0.156389\n",
       "ARVERNE             Drinking                           0.238611\n",
       "RIDGEWOOD           Posting Advertisement              0.248611\n",
       "ARVERNE             Vending                            0.483333\n",
       "SUNNYSIDE           Graffiti                           0.592500\n",
       "...                                                         ...\n",
       "                    Animal Abuse                       9.495762\n",
       "STATEN ISLAND       Graffiti                           9.562361\n",
       "SPRINGFIELD GARDENS Traffic                            9.646358\n",
       "COLLEGE POINT       Graffiti                          11.864167\n",
       "GLEN OAKS           Animal Abuse                      12.992944\n",
       "\n",
       "[618 rows x 1 columns]"
      ]
     },
     "execution_count": 83,
     "metadata": {},
     "output_type": "execute_result"
    }
   ],
   "source": [
    "df_city_Request_Closing_Time.sort_values(by='Request_Closing_Time')"
   ]
  },
  {
   "cell_type": "code",
   "execution_count": 84,
   "metadata": {},
   "outputs": [
    {
     "data": {
      "text/html": [
       "<div>\n",
       "<style scoped>\n",
       "    .dataframe tbody tr th:only-of-type {\n",
       "        vertical-align: middle;\n",
       "    }\n",
       "\n",
       "    .dataframe tbody tr th {\n",
       "        vertical-align: top;\n",
       "    }\n",
       "\n",
       "    .dataframe thead th {\n",
       "        text-align: right;\n",
       "    }\n",
       "</style>\n",
       "<table border=\"1\" class=\"dataframe\">\n",
       "  <thead>\n",
       "    <tr style=\"text-align: right;\">\n",
       "      <th></th>\n",
       "      <th>index</th>\n",
       "      <th>City</th>\n",
       "      <th>Complaint Type</th>\n",
       "      <th>Request_Closing_Time</th>\n",
       "    </tr>\n",
       "  </thead>\n",
       "  <tbody>\n",
       "    <tr>\n",
       "      <th>0</th>\n",
       "      <td>483</td>\n",
       "      <td>ROSEDALE</td>\n",
       "      <td>Graffiti</td>\n",
       "      <td>0.156389</td>\n",
       "    </tr>\n",
       "    <tr>\n",
       "      <th>1</th>\n",
       "      <td>4</td>\n",
       "      <td>ARVERNE</td>\n",
       "      <td>Drinking</td>\n",
       "      <td>0.238611</td>\n",
       "    </tr>\n",
       "    <tr>\n",
       "      <th>2</th>\n",
       "      <td>464</td>\n",
       "      <td>RIDGEWOOD</td>\n",
       "      <td>Posting Advertisement</td>\n",
       "      <td>0.248611</td>\n",
       "    </tr>\n",
       "    <tr>\n",
       "      <th>3</th>\n",
       "      <td>12</td>\n",
       "      <td>ARVERNE</td>\n",
       "      <td>Vending</td>\n",
       "      <td>0.483333</td>\n",
       "    </tr>\n",
       "    <tr>\n",
       "      <th>4</th>\n",
       "      <td>565</td>\n",
       "      <td>SUNNYSIDE</td>\n",
       "      <td>Graffiti</td>\n",
       "      <td>0.592500</td>\n",
       "    </tr>\n",
       "    <tr>\n",
       "      <th>...</th>\n",
       "      <td>...</td>\n",
       "      <td>...</td>\n",
       "      <td>...</td>\n",
       "      <td>...</td>\n",
       "    </tr>\n",
       "    <tr>\n",
       "      <th>613</th>\n",
       "      <td>560</td>\n",
       "      <td>SUNNYSIDE</td>\n",
       "      <td>Animal Abuse</td>\n",
       "      <td>9.495762</td>\n",
       "    </tr>\n",
       "    <tr>\n",
       "      <th>614</th>\n",
       "      <td>550</td>\n",
       "      <td>STATEN ISLAND</td>\n",
       "      <td>Graffiti</td>\n",
       "      <td>9.562361</td>\n",
       "    </tr>\n",
       "    <tr>\n",
       "      <th>615</th>\n",
       "      <td>543</td>\n",
       "      <td>SPRINGFIELD GARDENS</td>\n",
       "      <td>Traffic</td>\n",
       "      <td>9.646358</td>\n",
       "    </tr>\n",
       "    <tr>\n",
       "      <th>616</th>\n",
       "      <td>113</td>\n",
       "      <td>COLLEGE POINT</td>\n",
       "      <td>Graffiti</td>\n",
       "      <td>11.864167</td>\n",
       "    </tr>\n",
       "    <tr>\n",
       "      <th>617</th>\n",
       "      <td>230</td>\n",
       "      <td>GLEN OAKS</td>\n",
       "      <td>Animal Abuse</td>\n",
       "      <td>12.992944</td>\n",
       "    </tr>\n",
       "  </tbody>\n",
       "</table>\n",
       "<p>618 rows × 4 columns</p>\n",
       "</div>"
      ],
      "text/plain": [
       "     index                 City         Complaint Type  Request_Closing_Time\n",
       "0      483             ROSEDALE               Graffiti              0.156389\n",
       "1        4              ARVERNE               Drinking              0.238611\n",
       "2      464            RIDGEWOOD  Posting Advertisement              0.248611\n",
       "3       12              ARVERNE                Vending              0.483333\n",
       "4      565            SUNNYSIDE               Graffiti              0.592500\n",
       "..     ...                  ...                    ...                   ...\n",
       "613    560            SUNNYSIDE           Animal Abuse              9.495762\n",
       "614    550        STATEN ISLAND               Graffiti              9.562361\n",
       "615    543  SPRINGFIELD GARDENS                Traffic              9.646358\n",
       "616    113        COLLEGE POINT               Graffiti             11.864167\n",
       "617    230            GLEN OAKS           Animal Abuse             12.992944\n",
       "\n",
       "[618 rows x 4 columns]"
      ]
     },
     "execution_count": 84,
     "metadata": {},
     "output_type": "execute_result"
    }
   ],
   "source": [
    "df2 = df_city_Request_Closing_Time.reset_index()\n",
    "df2.sort_values(by='Request_Closing_Time').reset_index()"
   ]
  },
  {
   "cell_type": "code",
   "execution_count": 85,
   "metadata": {},
   "outputs": [
    {
     "data": {
      "text/plain": [
       "Index(['City', 'Complaint Type', 'Request_Closing_Time'], dtype='object')"
      ]
     },
     "execution_count": 85,
     "metadata": {},
     "output_type": "execute_result"
    }
   ],
   "source": [
    "df2.keys()"
   ]
  },
  {
   "cell_type": "code",
   "execution_count": 86,
   "metadata": {},
   "outputs": [
    {
     "data": {
      "text/plain": [
       "<seaborn.axisgrid.FacetGrid at 0xb60c804910>"
      ]
     },
     "execution_count": 86,
     "metadata": {},
     "output_type": "execute_result"
    },
    {
     "data": {
      "image/png": "[encoded data removed]",
      "text/plain": [
       "<Figure size 1080x360 with 1 Axes>"
      ]
     },
     "metadata": {
      "needs_background": "light"
     },
     "output_type": "display_data"
    }
   ],
   "source": [
    "fig = sns.catplot(x='City',y='Request_Closing_Time',kind='bar',data=df,aspect=3)\n",
    "fig.set_xticklabels(rotation=90)"
   ]
  },
  {
   "cell_type": "markdown",
   "metadata": {},
   "source": [
    "## Q.N.5) Statistical Test"
   ]
  },
  {
   "cell_type": "code",
   "execution_count": 87,
   "metadata": {},
   "outputs": [
    {
     "data": {
      "text/plain": [
       "Street/Sidewalk        242760\n",
       "Store/Commercial        19425\n",
       "Club/Bar/Restaurant     17172\n",
       "Name: Location Type, dtype: int64"
      ]
     },
     "execution_count": 87,
     "metadata": {},
     "output_type": "execute_result"
    }
   ],
   "source": [
    "df['Location Type'].value_counts().head(3)"
   ]
  },
  {
   "cell_type": "code",
   "execution_count": 88,
   "metadata": {},
   "outputs": [
    {
     "data": {
      "text/plain": [
       "Blocked Driveway    76675\n",
       "Illegal Parking     74020\n",
       "Name: Complaint Type, dtype: int64"
      ]
     },
     "execution_count": 88,
     "metadata": {},
     "output_type": "execute_result"
    }
   ],
   "source": [
    "df['Complaint Type'].value_counts().head(2)"
   ]
  },
  {
   "cell_type": "code",
   "execution_count": 89,
   "metadata": {},
   "outputs": [],
   "source": [
    "group = df[['Unique Key','Location Type','Complaint Type']].groupby(by=['Location Type','Complaint Type'])"
   ]
  },
  {
   "cell_type": "code",
   "execution_count": 90,
   "metadata": {},
   "outputs": [],
   "source": [
    "group_count = group.count()"
   ]
  },
  {
   "cell_type": "code",
   "execution_count": 91,
   "metadata": {},
   "outputs": [],
   "source": [
    "group_un = group_count.unstack() #.reset_index()"
   ]
  },
  {
   "cell_type": "code",
   "execution_count": 92,
   "metadata": {},
   "outputs": [
    {
     "data": {
      "image/png": "[encoded data removed]",
      "text/plain": [
       "<Figure size 720x432 with 1 Axes>"
      ]
     },
     "metadata": {
      "needs_background": "light"
     },
     "output_type": "display_data"
    }
   ],
   "source": [
    "fig,ax = plt.subplots(figsize=(10,6))\n",
    "fig= group_un.plot(kind='bar',stacked=True,ax=ax)\n",
    "fig.legend(bbox_to_anchor=[1.05,1.05])\n",
    "plt.yscale('log')"
   ]
  },
  {
   "cell_type": "markdown",
   "metadata": {},
   "source": [
    "**if they are related what should be case ? - there are speicific kind of complaints related to located - assocation**\n",
    "\n",
    "**if they are not relted what should be case ? - complaints are not depends on location - independent**\n",
    "\n",
    "    HO: No Related (no association)\n",
    "        alpha > 0.05\n",
    "    HA: Realted (association)\n",
    "        alpha < 0.05\n",
    "\n",
    "\n",
    "## $ChiSquare = \\frac{\\sum (f_e - f_o)^2} { f_e} $\n",
    "\n",
    "![image.png](attachment:image.png)"
   ]
  },
  {
   "cell_type": "code",
   "execution_count": 97,
   "metadata": {},
   "outputs": [],
   "source": [
    "#'Location Type','Complaint Type'\n",
    "comp_loc = pd.crosstab(df['Location Type'],df['Complaint Type'],margins=True)"
   ]
  },
  {
   "cell_type": "code",
   "execution_count": 98,
   "metadata": {},
   "outputs": [],
   "source": [
    "total_loc = comp_loc.sum(axis=0)"
   ]
  },
  {
   "cell_type": "code",
   "execution_count": 99,
   "metadata": {},
   "outputs": [],
   "source": [
    "total_comp = comp_loc.sum(axis=1)"
   ]
  },
  {
   "cell_type": "code",
   "execution_count": 100,
   "metadata": {},
   "outputs": [
    {
     "data": {
      "text/html": [
       "<div>\n",
       "<style scoped>\n",
       "    .dataframe tbody tr th:only-of-type {\n",
       "        vertical-align: middle;\n",
       "    }\n",
       "\n",
       "    .dataframe tbody tr th {\n",
       "        vertical-align: top;\n",
       "    }\n",
       "\n",
       "    .dataframe thead th {\n",
       "        text-align: right;\n",
       "    }\n",
       "</style>\n",
       "<table border=\"1\" class=\"dataframe\">\n",
       "  <thead>\n",
       "    <tr style=\"text-align: right;\">\n",
       "      <th>Complaint Type</th>\n",
       "      <th>Animal Abuse</th>\n",
       "      <th>Blocked Driveway</th>\n",
       "      <th>Derelict Vehicle</th>\n",
       "      <th>Disorderly Youth</th>\n",
       "      <th>Drinking</th>\n",
       "      <th>Graffiti</th>\n",
       "      <th>Illegal Parking</th>\n",
       "      <th>Noise - Commercial</th>\n",
       "      <th>Noise - House of Worship</th>\n",
       "      <th>Noise - Park</th>\n",
       "      <th>Noise - Street/Sidewalk</th>\n",
       "      <th>Noise - Vehicle</th>\n",
       "      <th>Posting Advertisement</th>\n",
       "      <th>Traffic</th>\n",
       "      <th>Vending</th>\n",
       "      <th>All</th>\n",
       "    </tr>\n",
       "    <tr>\n",
       "      <th>Location Type</th>\n",
       "      <th></th>\n",
       "      <th></th>\n",
       "      <th></th>\n",
       "      <th></th>\n",
       "      <th></th>\n",
       "      <th></th>\n",
       "      <th></th>\n",
       "      <th></th>\n",
       "      <th></th>\n",
       "      <th></th>\n",
       "      <th></th>\n",
       "      <th></th>\n",
       "      <th></th>\n",
       "      <th></th>\n",
       "      <th></th>\n",
       "      <th></th>\n",
       "    </tr>\n",
       "  </thead>\n",
       "  <tbody>\n",
       "    <tr>\n",
       "      <th>Club/Bar/Restaurant</th>\n",
       "      <td>0</td>\n",
       "      <td>0</td>\n",
       "      <td>0</td>\n",
       "      <td>0</td>\n",
       "      <td>365</td>\n",
       "      <td>0</td>\n",
       "      <td>0</td>\n",
       "      <td>16807</td>\n",
       "      <td>0</td>\n",
       "      <td>0</td>\n",
       "      <td>0</td>\n",
       "      <td>0</td>\n",
       "      <td>0</td>\n",
       "      <td>0</td>\n",
       "      <td>0</td>\n",
       "      <td>17172</td>\n",
       "    </tr>\n",
       "    <tr>\n",
       "      <th>Commercial</th>\n",
       "      <td>62</td>\n",
       "      <td>0</td>\n",
       "      <td>0</td>\n",
       "      <td>0</td>\n",
       "      <td>0</td>\n",
       "      <td>0</td>\n",
       "      <td>0</td>\n",
       "      <td>0</td>\n",
       "      <td>0</td>\n",
       "      <td>0</td>\n",
       "      <td>0</td>\n",
       "      <td>0</td>\n",
       "      <td>0</td>\n",
       "      <td>0</td>\n",
       "      <td>0</td>\n",
       "      <td>62</td>\n",
       "    </tr>\n",
       "    <tr>\n",
       "      <th>Highway</th>\n",
       "      <td>0</td>\n",
       "      <td>0</td>\n",
       "      <td>3</td>\n",
       "      <td>0</td>\n",
       "      <td>0</td>\n",
       "      <td>0</td>\n",
       "      <td>0</td>\n",
       "      <td>0</td>\n",
       "      <td>0</td>\n",
       "      <td>0</td>\n",
       "      <td>0</td>\n",
       "      <td>0</td>\n",
       "      <td>0</td>\n",
       "      <td>2</td>\n",
       "      <td>0</td>\n",
       "      <td>5</td>\n",
       "    </tr>\n",
       "    <tr>\n",
       "      <th>House and Store</th>\n",
       "      <td>93</td>\n",
       "      <td>0</td>\n",
       "      <td>0</td>\n",
       "      <td>0</td>\n",
       "      <td>0</td>\n",
       "      <td>0</td>\n",
       "      <td>0</td>\n",
       "      <td>0</td>\n",
       "      <td>0</td>\n",
       "      <td>0</td>\n",
       "      <td>0</td>\n",
       "      <td>0</td>\n",
       "      <td>0</td>\n",
       "      <td>0</td>\n",
       "      <td>0</td>\n",
       "      <td>93</td>\n",
       "    </tr>\n",
       "    <tr>\n",
       "      <th>House of Worship</th>\n",
       "      <td>0</td>\n",
       "      <td>0</td>\n",
       "      <td>0</td>\n",
       "      <td>0</td>\n",
       "      <td>0</td>\n",
       "      <td>0</td>\n",
       "      <td>0</td>\n",
       "      <td>0</td>\n",
       "      <td>920</td>\n",
       "      <td>0</td>\n",
       "      <td>0</td>\n",
       "      <td>0</td>\n",
       "      <td>0</td>\n",
       "      <td>0</td>\n",
       "      <td>0</td>\n",
       "      <td>920</td>\n",
       "    </tr>\n",
       "    <tr>\n",
       "      <th>Park/Playground</th>\n",
       "      <td>120</td>\n",
       "      <td>0</td>\n",
       "      <td>0</td>\n",
       "      <td>0</td>\n",
       "      <td>96</td>\n",
       "      <td>0</td>\n",
       "      <td>0</td>\n",
       "      <td>0</td>\n",
       "      <td>0</td>\n",
       "      <td>3927</td>\n",
       "      <td>0</td>\n",
       "      <td>0</td>\n",
       "      <td>0</td>\n",
       "      <td>0</td>\n",
       "      <td>103</td>\n",
       "      <td>4246</td>\n",
       "    </tr>\n",
       "    <tr>\n",
       "      <th>Parking Lot</th>\n",
       "      <td>109</td>\n",
       "      <td>0</td>\n",
       "      <td>0</td>\n",
       "      <td>0</td>\n",
       "      <td>0</td>\n",
       "      <td>0</td>\n",
       "      <td>0</td>\n",
       "      <td>0</td>\n",
       "      <td>0</td>\n",
       "      <td>0</td>\n",
       "      <td>0</td>\n",
       "      <td>0</td>\n",
       "      <td>7</td>\n",
       "      <td>0</td>\n",
       "      <td>0</td>\n",
       "      <td>116</td>\n",
       "    </tr>\n",
       "    <tr>\n",
       "      <th>Residential Building</th>\n",
       "      <td>226</td>\n",
       "      <td>0</td>\n",
       "      <td>0</td>\n",
       "      <td>0</td>\n",
       "      <td>0</td>\n",
       "      <td>0</td>\n",
       "      <td>0</td>\n",
       "      <td>0</td>\n",
       "      <td>0</td>\n",
       "      <td>0</td>\n",
       "      <td>0</td>\n",
       "      <td>0</td>\n",
       "      <td>0</td>\n",
       "      <td>0</td>\n",
       "      <td>0</td>\n",
       "      <td>226</td>\n",
       "    </tr>\n",
       "    <tr>\n",
       "      <th>Residential Building/House</th>\n",
       "      <td>5075</td>\n",
       "      <td>0</td>\n",
       "      <td>0</td>\n",
       "      <td>77</td>\n",
       "      <td>289</td>\n",
       "      <td>56</td>\n",
       "      <td>0</td>\n",
       "      <td>0</td>\n",
       "      <td>0</td>\n",
       "      <td>0</td>\n",
       "      <td>0</td>\n",
       "      <td>0</td>\n",
       "      <td>54</td>\n",
       "      <td>0</td>\n",
       "      <td>201</td>\n",
       "      <td>5752</td>\n",
       "    </tr>\n",
       "    <tr>\n",
       "      <th>Roadway Tunnel</th>\n",
       "      <td>0</td>\n",
       "      <td>0</td>\n",
       "      <td>5</td>\n",
       "      <td>0</td>\n",
       "      <td>0</td>\n",
       "      <td>0</td>\n",
       "      <td>0</td>\n",
       "      <td>0</td>\n",
       "      <td>0</td>\n",
       "      <td>0</td>\n",
       "      <td>0</td>\n",
       "      <td>0</td>\n",
       "      <td>0</td>\n",
       "      <td>0</td>\n",
       "      <td>0</td>\n",
       "      <td>5</td>\n",
       "    </tr>\n",
       "    <tr>\n",
       "      <th>Store/Commercial</th>\n",
       "      <td>520</td>\n",
       "      <td>0</td>\n",
       "      <td>0</td>\n",
       "      <td>8</td>\n",
       "      <td>90</td>\n",
       "      <td>32</td>\n",
       "      <td>0</td>\n",
       "      <td>18337</td>\n",
       "      <td>0</td>\n",
       "      <td>0</td>\n",
       "      <td>0</td>\n",
       "      <td>0</td>\n",
       "      <td>6</td>\n",
       "      <td>0</td>\n",
       "      <td>432</td>\n",
       "      <td>19425</td>\n",
       "    </tr>\n",
       "    <tr>\n",
       "      <th>Street/Sidewalk</th>\n",
       "      <td>1516</td>\n",
       "      <td>76675</td>\n",
       "      <td>17411</td>\n",
       "      <td>200</td>\n",
       "      <td>430</td>\n",
       "      <td>25</td>\n",
       "      <td>74020</td>\n",
       "      <td>0</td>\n",
       "      <td>0</td>\n",
       "      <td>0</td>\n",
       "      <td>47745</td>\n",
       "      <td>16867</td>\n",
       "      <td>580</td>\n",
       "      <td>4254</td>\n",
       "      <td>3037</td>\n",
       "      <td>242760</td>\n",
       "    </tr>\n",
       "    <tr>\n",
       "      <th>Subway Station</th>\n",
       "      <td>22</td>\n",
       "      <td>0</td>\n",
       "      <td>0</td>\n",
       "      <td>0</td>\n",
       "      <td>0</td>\n",
       "      <td>0</td>\n",
       "      <td>0</td>\n",
       "      <td>0</td>\n",
       "      <td>0</td>\n",
       "      <td>0</td>\n",
       "      <td>0</td>\n",
       "      <td>0</td>\n",
       "      <td>0</td>\n",
       "      <td>0</td>\n",
       "      <td>0</td>\n",
       "      <td>22</td>\n",
       "    </tr>\n",
       "    <tr>\n",
       "      <th>Vacant Lot</th>\n",
       "      <td>0</td>\n",
       "      <td>0</td>\n",
       "      <td>77</td>\n",
       "      <td>0</td>\n",
       "      <td>0</td>\n",
       "      <td>0</td>\n",
       "      <td>0</td>\n",
       "      <td>0</td>\n",
       "      <td>0</td>\n",
       "      <td>0</td>\n",
       "      <td>0</td>\n",
       "      <td>0</td>\n",
       "      <td>0</td>\n",
       "      <td>0</td>\n",
       "      <td>0</td>\n",
       "      <td>77</td>\n",
       "    </tr>\n",
       "    <tr>\n",
       "      <th>All</th>\n",
       "      <td>7743</td>\n",
       "      <td>76675</td>\n",
       "      <td>17496</td>\n",
       "      <td>285</td>\n",
       "      <td>1270</td>\n",
       "      <td>113</td>\n",
       "      <td>74020</td>\n",
       "      <td>35144</td>\n",
       "      <td>920</td>\n",
       "      <td>3927</td>\n",
       "      <td>47745</td>\n",
       "      <td>16867</td>\n",
       "      <td>647</td>\n",
       "      <td>4256</td>\n",
       "      <td>3773</td>\n",
       "      <td>290881</td>\n",
       "    </tr>\n",
       "  </tbody>\n",
       "</table>\n",
       "</div>"
      ],
      "text/plain": [
       "Complaint Type              Animal Abuse  Blocked Driveway  Derelict Vehicle  \\\n",
       "Location Type                                                                  \n",
       "Club/Bar/Restaurant                    0                 0                 0   \n",
       "Commercial                            62                 0                 0   \n",
       "Highway                                0                 0                 3   \n",
       "House and Store                       93                 0                 0   \n",
       "House of Worship                       0                 0                 0   \n",
       "Park/Playground                      120                 0                 0   \n",
       "Parking Lot                          109                 0                 0   \n",
       "Residential Building                 226                 0                 0   \n",
       "Residential Building/House          5075                 0                 0   \n",
       "Roadway Tunnel                         0                 0                 5   \n",
       "Store/Commercial                     520                 0                 0   \n",
       "Street/Sidewalk                     1516             76675             17411   \n",
       "Subway Station                        22                 0                 0   \n",
       "Vacant Lot                             0                 0                77   \n",
       "All                                 7743             76675             17496   \n",
       "\n",
       "Complaint Type              Disorderly Youth  Drinking  Graffiti  \\\n",
       "Location Type                                                      \n",
       "Club/Bar/Restaurant                        0       365         0   \n",
       "Commercial                                 0         0         0   \n",
       "Highway                                    0         0         0   \n",
       "House and Store                            0         0         0   \n",
       "House of Worship                           0         0         0   \n",
       "Park/Playground                            0        96         0   \n",
       "Parking Lot                                0         0         0   \n",
       "Residential Building                       0         0         0   \n",
       "Residential Building/House                77       289        56   \n",
       "Roadway Tunnel                             0         0         0   \n",
       "Store/Commercial                           8        90        32   \n",
       "Street/Sidewalk                          200       430        25   \n",
       "Subway Station                             0         0         0   \n",
       "Vacant Lot                                 0         0         0   \n",
       "All                                      285      1270       113   \n",
       "\n",
       "Complaint Type              Illegal Parking  Noise - Commercial  \\\n",
       "Location Type                                                     \n",
       "Club/Bar/Restaurant                       0               16807   \n",
       "Commercial                                0                   0   \n",
       "Highway                                   0                   0   \n",
       "House and Store                           0                   0   \n",
       "House of Worship                          0                   0   \n",
       "Park/Playground                           0                   0   \n",
       "Parking Lot                               0                   0   \n",
       "Residential Building                      0                   0   \n",
       "Residential Building/House                0                   0   \n",
       "Roadway Tunnel                            0                   0   \n",
       "Store/Commercial                          0               18337   \n",
       "Street/Sidewalk                       74020                   0   \n",
       "Subway Station                            0                   0   \n",
       "Vacant Lot                                0                   0   \n",
       "All                                   74020               35144   \n",
       "\n",
       "Complaint Type              Noise - House of Worship  Noise - Park  \\\n",
       "Location Type                                                        \n",
       "Club/Bar/Restaurant                                0             0   \n",
       "Commercial                                         0             0   \n",
       "Highway                                            0             0   \n",
       "House and Store                                    0             0   \n",
       "House of Worship                                 920             0   \n",
       "Park/Playground                                    0          3927   \n",
       "Parking Lot                                        0             0   \n",
       "Residential Building                               0             0   \n",
       "Residential Building/House                         0             0   \n",
       "Roadway Tunnel                                     0             0   \n",
       "Store/Commercial                                   0             0   \n",
       "Street/Sidewalk                                    0             0   \n",
       "Subway Station                                     0             0   \n",
       "Vacant Lot                                         0             0   \n",
       "All                                              920          3927   \n",
       "\n",
       "Complaint Type              Noise - Street/Sidewalk  Noise - Vehicle  \\\n",
       "Location Type                                                          \n",
       "Club/Bar/Restaurant                               0                0   \n",
       "Commercial                                        0                0   \n",
       "Highway                                           0                0   \n",
       "House and Store                                   0                0   \n",
       "House of Worship                                  0                0   \n",
       "Park/Playground                                   0                0   \n",
       "Parking Lot                                       0                0   \n",
       "Residential Building                              0                0   \n",
       "Residential Building/House                        0                0   \n",
       "Roadway Tunnel                                    0                0   \n",
       "Store/Commercial                                  0                0   \n",
       "Street/Sidewalk                               47745            16867   \n",
       "Subway Station                                    0                0   \n",
       "Vacant Lot                                        0                0   \n",
       "All                                           47745            16867   \n",
       "\n",
       "Complaint Type              Posting Advertisement  Traffic  Vending     All  \n",
       "Location Type                                                                \n",
       "Club/Bar/Restaurant                             0        0        0   17172  \n",
       "Commercial                                      0        0        0      62  \n",
       "Highway                                         0        2        0       5  \n",
       "House and Store                                 0        0        0      93  \n",
       "House of Worship                                0        0        0     920  \n",
       "Park/Playground                                 0        0      103    4246  \n",
       "Parking Lot                                     7        0        0     116  \n",
       "Residential Building                            0        0        0     226  \n",
       "Residential Building/House                     54        0      201    5752  \n",
       "Roadway Tunnel                                  0        0        0       5  \n",
       "Store/Commercial                                6        0      432   19425  \n",
       "Street/Sidewalk                               580     4254     3037  242760  \n",
       "Subway Station                                  0        0        0      22  \n",
       "Vacant Lot                                      0        0        0      77  \n",
       "All                                           647     4256     3773  290881  "
      ]
     },
     "execution_count": 100,
     "metadata": {},
     "output_type": "execute_result"
    }
   ],
   "source": [
    "comp_loc"
   ]
  },
  {
   "cell_type": "markdown",
   "metadata": {},
   "source": [
    "## Expected table"
   ]
  },
  {
   "cell_type": "code",
   "execution_count": 101,
   "metadata": {},
   "outputs": [
    {
     "data": {
      "text/plain": [
       "290881"
      ]
     },
     "execution_count": 101,
     "metadata": {},
     "output_type": "execute_result"
    }
   ],
   "source": [
    "N = comp_loc.iloc[-1,-1]\n",
    "N"
   ]
  },
  {
   "cell_type": "code",
   "execution_count": 102,
   "metadata": {},
   "outputs": [
    {
     "data": {
      "text/plain": [
       "(15, 16)"
      ]
     },
     "execution_count": 102,
     "metadata": {},
     "output_type": "execute_result"
    }
   ],
   "source": [
    "rows,cols  = comp_loc.shape\n",
    "rows,cols"
   ]
  },
  {
   "cell_type": "code",
   "execution_count": 114,
   "metadata": {
    "collapsed": true
   },
   "outputs": [
    {
     "name": "stdout",
     "output_type": "stream",
     "text": [
      "For 0 row and 0 col the e =457.10375033089133\n",
      "For 1 row and 0 col the e =1.6503862404213407\n",
      "For 2 row and 0 col the e =0.13309566455010813\n",
      "For 3 row and 0 col the e =2.475579360632011\n",
      "For 4 row and 0 col the e =24.489602277219895\n",
      "For 5 row and 0 col the e =113.02483833595181\n",
      "For 6 row and 0 col the e =3.087819417562508\n",
      "For 7 row and 0 col the e =6.015924037664887\n",
      "For 8 row and 0 col the e =153.11325249844438\n",
      "For 9 row and 0 col the e =0.13309566455010813\n",
      "For 10 row and 0 col the e =517.07665677717\n",
      "For 11 row and 0 col the e =6462.06070523685\n",
      "For 12 row and 0 col the e =0.5856209240204757\n",
      "For 13 row and 0 col the e =2.049673234071665\n",
      "For 0 row and 1 col the e =4526.466493170747\n",
      "For 1 row and 1 col the e =16.34293748990137\n",
      "For 2 row and 1 col the e =1.3179788298307555\n",
      "For 3 row and 1 col the e =24.514406234852054\n",
      "For 4 row and 1 col the e =242.50810468885902\n",
      "For 5 row and 1 col the e =1119.2276222922776\n",
      "For 6 row and 1 col the e =30.57710885207353\n",
      "For 7 row and 1 col the e =59.57264310835015\n",
      "For 8 row and 1 col the e =1516.202845837301\n",
      "For 9 row and 1 col the e =1.3179788298307555\n",
      "For 10 row and 1 col the e =5120.347753892485\n",
      "For 11 row and 1 col the e =63990.50814594284\n",
      "For 12 row and 1 col the e =5.799106851255324\n",
      "For 13 row and 1 col the e =20.296873979393634\n",
      "For 0 row and 2 col the e =1032.8667461951795\n",
      "For 1 row and 2 col the e =3.7291951004018826\n",
      "For 2 row and 2 col the e =0.3007415403549905\n",
      "For 3 row and 2 col the e =5.593792650602824\n",
      "For 4 row and 2 col the e =55.33644342531826\n",
      "For 5 row and 2 col the e =255.38971606945796\n",
      "For 6 row and 2 col the e =6.97720373623578\n",
      "For 7 row and 2 col the e =13.593517624045571\n",
      "For 8 row and 2 col the e =345.9730680243811\n",
      "For 9 row and 2 col the e =0.3007415403549905\n",
      "For 10 row and 2 col the e =1168.3808842791382\n",
      "For 11 row and 2 col the e =14601.6032673155\n",
      "For 12 row and 2 col the e =1.3232627775619583\n",
      "For 13 row and 2 col the e =4.631419721466854\n",
      "For 0 row and 3 col the e =16.824818396526414\n",
      "For 1 row and 3 col the e =0.06074649083302106\n",
      "For 2 row and 3 col the e =0.004898910551050086\n",
      "For 3 row and 3 col the e =0.0911197362495316\n",
      "For 4 row and 3 col the e =0.9013995413932158\n",
      "For 5 row and 3 col the e =4.1601548399517325\n",
      "For 6 row and 3 col the e =0.11365472478436199\n",
      "For 7 row and 3 col the e =0.2214307569074639\n",
      "For 8 row and 3 col the e =5.635706697928018\n",
      "For 9 row and 3 col the e =0.004898910551050086\n",
      "For 10 row and 3 col the e =19.032267490829582\n",
      "For 11 row and 3 col the e =237.85190507458375\n",
      "For 12 row and 3 col the e =0.021555206424620377\n",
      "For 13 row and 3 col the e =0.07544322248617132\n",
      "For 0 row and 4 col the e =74.97375215294227\n",
      "For 1 row and 4 col the e =0.27069488897521665\n",
      "For 2 row and 4 col the e =0.02183023298187231\n",
      "For 3 row and 4 col the e =0.406042333462825\n",
      "For 4 row and 4 col the e =4.016762868664506\n",
      "For 5 row and 4 col the e =18.538233848205966\n",
      "For 6 row and 4 col the e =0.5064614051794376\n",
      "For 7 row and 4 col the e =0.9867265307806286\n",
      "For 8 row and 4 col the e =25.113500022345907\n",
      "For 9 row and 4 col the e =0.02183023298187231\n",
      "For 10 row and 4 col the e =84.81045513457393\n",
      "For 11 row and 4 col the e =1059.9014717358646\n",
      "For 12 row and 4 col the e =0.09605302512023817\n",
      "For 13 row and 4 col the e =0.3361855879208336\n",
      "For 0 row and 5 col the e =6.670892908096438\n",
      "For 1 row and 5 col the e =0.024085450751338177\n",
      "For 2 row and 5 col the e =0.0019423750605917884\n",
      "For 3 row and 5 col the e =0.036128176127007264\n",
      "For 4 row and 5 col the e =0.35739701114888905\n",
      "For 5 row and 5 col the e =1.6494649014545466\n",
      "For 6 row and 5 col the e =0.04506310140572949\n",
      "For 7 row and 5 col the e =0.08779535273874883\n",
      "For 8 row and 5 col the e =2.2345082697047935\n",
      "For 9 row and 5 col the e =0.0019423750605917884\n",
      "For 10 row and 5 col the e =7.546127110399098\n",
      "For 11 row and 5 col the e =94.30619394185251\n",
      "For 12 row and 5 col the e =0.00854645026660387\n",
      "For 13 row and 5 col the e =0.02991257593311354\n",
      "For 0 row and 6 col the e =4369.730027055738\n",
      "For 1 row and 6 col the e =15.777035970035856\n",
      "For 2 row and 6 col the e =1.2723416104867626\n",
      "For 3 row and 6 col the e =23.665553955053785\n",
      "For 4 row and 6 col the e =234.1108563295643\n",
      "For 5 row and 6 col the e =1080.4724956253588\n",
      "For 6 row and 6 col the e =29.51832536329289\n",
      "For 7 row and 6 col the e =57.50984079400167\n",
      "For 8 row and 6 col the e =1463.7017887039717\n",
      "For 9 row and 6 col the e =1.2723416104867626\n",
      "For 10 row and 6 col the e =4943.047156741073\n",
      "For 11 row and 6 col the e =61774.7298723533\n",
      "For 12 row and 6 col the e =5.5983030861417555\n",
      "For 13 row and 6 col the e =19.594060801496145\n",
      "For 0 row and 7 col the e =2074.706728868506\n",
      "For 1 row and 7 col the e =7.490788329248043\n",
      "For 2 row and 7 col the e =0.6040958330038745\n",
      "For 3 row and 7 col the e =11.236182493872064\n",
      "For 4 row and 7 col the e =111.1536332727129\n",
      "For 5 row and 7 col the e =512.9981813868902\n",
      "For 6 row and 7 col the e =14.015023325689887\n",
      "For 7 row and 7 col the e =27.305131651775124\n",
      "For 8 row and 7 col the e =694.9518462876572\n",
      "For 9 row and 7 col the e =0.6040958330038745\n",
      "For 10 row and 7 col the e =2346.9123112200523\n",
      "For 11 row and 7 col the e =29330.060884004113\n",
      "For 12 row and 7 col the e =2.6580216652170474\n",
      "For 13 row and 7 col the e =9.303075828259667\n",
      "For 0 row and 8 col the e =54.31169447299755\n",
      "For 1 row and 8 col the e =0.1960939353206294\n",
      "For 2 row and 8 col the e =0.015814027041986242\n",
      "For 3 row and 8 col the e =0.2941409029809441\n",
      "For 4 row and 8 col the e =2.9097809757254685\n",
      "For 5 row and 8 col the e =13.429271764054716\n",
      "For 6 row and 8 col the e =0.3668854273740808\n",
      "For 7 row and 8 col the e =0.7147940222977781\n",
      "For 8 row and 8 col the e =18.192456709100973\n",
      "For 9 row and 8 col the e =0.015814027041986242\n",
      "For 10 row and 8 col the e =61.437495058116546\n",
      "For 11 row and 8 col the e =767.8026409425161\n",
      "For 12 row and 8 col the e =0.06958171898473946\n",
      "For 13 row and 8 col the e =0.24353601644658812\n",
      "For 0 row and 9 col the e =231.82828716897976\n",
      "For 1 row and 9 col the e =0.8370227000044692\n",
      "For 2 row and 9 col the e =0.0675018306455217\n",
      "For 3 row and 9 col the e =1.2555340500067038\n",
      "For 4 row and 9 col the e =12.420336838775995\n",
      "For 5 row and 9 col the e =57.322554584177034\n",
      "For 6 row and 9 col the e =1.5660424709761036\n",
      "For 7 row and 9 col the e =3.051082745177581\n",
      "For 8 row and 9 col the e =77.65410597460817\n",
      "For 9 row and 9 col the e =0.0675018306455217\n",
      "For 10 row and 9 col the e =262.24461205785184\n",
      "For 11 row and 9 col the e =3277.3488815013698\n",
      "For 12 row and 9 col the e =0.2970080548402955\n",
      "For 13 row and 9 col the e =1.0395281919410344\n",
      "For 0 row and 10 col the e =2818.59983979703\n",
      "For 1 row and 10 col the e =10.176635806395055\n",
      "For 2 row and 10 col the e =0.8206964359996012\n",
      "For 3 row and 10 col the e =15.264953709592582\n",
      "For 4 row and 10 col the e =151.00814422392662\n",
      "For 5 row and 10 col the e =696.9354134508613\n",
      "For 6 row and 10 col the e =19.040157315190747\n",
      "For 7 row and 10 col the e =37.09547890718198\n",
      "For 8 row and 10 col the e =944.1291799739412\n",
      "For 9 row and 10 col the e =0.8206964359996012\n",
      "For 10 row and 10 col the e =3188.405653858451\n",
      "For 11 row and 10 col the e =39846.45336065264\n",
      "For 12 row and 10 col the e =3.6110643183982454\n",
      "For 13 row and 10 col the e =12.638725114393859\n",
      "For 0 row and 11 col the e =995.7340768217931\n",
      "For 1 row and 11 col the e =3.595126529405496\n",
      "For 2 row and 11 col the e =0.28992955882302385\n",
      "For 3 row and 11 col the e =5.392689794108244\n",
      "For 4 row and 11 col the e =53.347038823436385\n",
      "For 5 row and 11 col the e =246.20818135251184\n",
      "For 6 row and 11 col the e =6.726365764694154\n",
      "For 7 row and 11 col the e =13.104816058800678\n",
      "For 8 row and 11 col the e =333.5349644700066\n",
      "For 9 row and 11 col the e =0.28992955882302385\n",
      "For 10 row and 11 col the e =1126.3763360274477\n",
      "For 11 row and 11 col the e =14076.659939975454\n",
      "For 12 row and 11 col the e =1.275690058821305\n",
      "For 13 row and 11 col the e =4.464915205874568\n",
      "For 0 row and 12 col the e =38.19528948264067\n",
      "For 1 row and 12 col the e =0.1379051914700513\n",
      "For 2 row and 12 col the e =0.011121386408875108\n",
      "For 3 row and 12 col the e =0.206857787205077\n",
      "For 4 row and 12 col the e =2.0463350992330196\n",
      "For 5 row and 12 col the e =9.44428133841674\n",
      "For 6 row and 12 col the e =0.2580161646859025\n",
      "For 7 row and 12 col the e =0.5026866656811548\n",
      "For 8 row and 12 col the e =12.794042924769924\n",
      "For 9 row and 12 col the e =0.011121386408875108\n",
      "For 10 row and 12 col the e =43.20658619847979\n",
      "For 11 row and 12 col the e =539.9655529237042\n",
      "For 12 row and 12 col the e =0.04893410019905047\n",
      "For 13 row and 12 col the e =0.17126935069667665\n",
      "For 0 row and 13 col the e =251.2506213881278\n",
      "For 1 row and 13 col the e =0.9071475964397813\n",
      "For 2 row and 13 col the e =0.07315706422901462\n",
      "For 3 row and 13 col the e =1.360721394659672\n",
      "For 4 row and 13 col the e =13.460899818138689\n",
      "For 5 row and 13 col the e =62.12497894327921\n",
      "For 6 row and 13 col the e =1.697243890113139\n",
      "For 7 row and 13 col the e =3.3066993031514604\n",
      "For 8 row and 13 col the e =84.15988668905841\n",
      "For 9 row and 13 col the e =0.07315706422901462\n",
      "For 10 row and 13 col the e =284.21519452972177\n",
      "For 11 row and 13 col the e =3551.9217824471175\n",
      "For 12 row and 13 col the e =0.3218910826076643\n",
      "For 13 row and 13 col the e =1.1266187891268251\n",
      "For 0 row and 14 col the e =222.73698178980408\n",
      "For 1 row and 14 col the e =0.8041982803964508\n",
      "For 2 row and 14 col the e =0.06485470003197184\n",
      "For 3 row and 14 col the e =1.2062974205946762\n",
      "For 4 row and 14 col the e =11.933264805882818\n",
      "For 5 row and 14 col the e =55.07461126715049\n",
      "For 6 row and 14 col the e =1.5046290407417466\n",
      "For 7 row and 14 col the e =2.931432441445127\n",
      "For 8 row and 14 col the e =74.60884691678041\n",
      "For 9 row and 14 col the e =0.06485470003197184\n",
      "For 10 row and 14 col the e =251.9605096242106\n",
      "For 11 row and 14 col the e =3148.8253959522967\n",
      "For 12 row and 14 col the e =0.28536068014067606\n",
      "For 13 row and 14 col the e =0.9987623804923663\n"
     ]
    }
   ],
   "source": [
    "E_ij =np.zeros((rows-1,cols-1))\n",
    "for i in range(cols-1):\n",
    "    for j in range(rows-1):\n",
    "        e = (comp_loc.iloc[-1,i] * comp_loc.iloc[j,-1])/N\n",
    "        print('For {} row and {} col the e ={}'.format(j,i,e))\n",
    "        E_ij[j,i] = e"
   ]
  },
  {
   "cell_type": "code",
   "execution_count": 104,
   "metadata": {},
   "outputs": [],
   "source": [
    "# E_ij\n",
    "O_ij =  comp_loc.iloc[:-1,:-1].values"
   ]
  },
  {
   "cell_type": "code",
   "execution_count": 105,
   "metadata": {},
   "outputs": [
    {
     "data": {
      "text/plain": [
       "((14, 15), (14, 15))"
      ]
     },
     "execution_count": 105,
     "metadata": {},
     "output_type": "execute_result"
    }
   ],
   "source": [
    "O_ij.shape, E_ij.shape"
   ]
  },
  {
   "cell_type": "code",
   "execution_count": 106,
   "metadata": {},
   "outputs": [],
   "source": [
    "def chisquare_value(fe,fo):\n",
    "    chisqure = np.square(fe-fo)/fe\n",
    "    return chisqure"
   ]
  },
  {
   "cell_type": "code",
   "execution_count": 107,
   "metadata": {},
   "outputs": [],
   "source": [
    "chisqure_list = []\n",
    "n_row,n_col = O_ij.shape\n",
    "for i in range(n_row):\n",
    "    for j in range(n_col):\n",
    "        chisqure_list.append(\n",
    "            chisquare_value(E_ij[i,j], O_ij[i,j]))"
   ]
  },
  {
   "cell_type": "code",
   "execution_count": 144,
   "metadata": {},
   "outputs": [
    {
     "name": "stdout",
     "output_type": "stream",
     "text": [
      "chisquare_value = 1036031.2859946307\n"
     ]
    }
   ],
   "source": [
    "chisquare_value = sum(chisqure_list)\n",
    "print('chisquare_value =',chisquare_value)"
   ]
  },
  {
   "cell_type": "code",
   "execution_count": 145,
   "metadata": {},
   "outputs": [
    {
     "name": "stdout",
     "output_type": "stream",
     "text": [
      "Degree of Freedom = 182\n"
     ]
    }
   ],
   "source": [
    "dof = (n_row-1)*(n_col-1)\n",
    "print('Degree of Freedom =',dof)"
   ]
  },
  {
   "cell_type": "code",
   "execution_count": 110,
   "metadata": {},
   "outputs": [],
   "source": [
    "from scipy import stats"
   ]
  },
  {
   "cell_type": "code",
   "execution_count": 111,
   "metadata": {},
   "outputs": [],
   "source": [
    "alpha = stats.chi2.pdf(1036031.2859946307,182)# p value from the right"
   ]
  },
  {
   "cell_type": "code",
   "execution_count": 112,
   "metadata": {},
   "outputs": [],
   "source": [
    "pval = 1-alpha"
   ]
  },
  {
   "cell_type": "code",
   "execution_count": 113,
   "metadata": {},
   "outputs": [
    {
     "name": "stdout",
     "output_type": "stream",
     "text": [
      "the alpha = 0.0\n"
     ]
    }
   ],
   "source": [
    "print('the alpha =',alpha)"
   ]
  },
  {
   "cell_type": "markdown",
   "metadata": {},
   "source": [
    "## since alpha is less than 0.05 hence , complaint or service requested and location related"
   ]
  },
  {
   "cell_type": "code",
   "execution_count": null,
   "metadata": {},
   "outputs": [],
   "source": []
  },
  {
   "cell_type": "code",
   "execution_count": 138,
   "metadata": {},
   "outputs": [],
   "source": [
    "from scipy.stats import chi2_contingency"
   ]
  },
  {
   "cell_type": "code",
   "execution_count": 139,
   "metadata": {},
   "outputs": [
    {
     "data": {
      "text/html": [
       "<div>\n",
       "<style scoped>\n",
       "    .dataframe tbody tr th:only-of-type {\n",
       "        vertical-align: middle;\n",
       "    }\n",
       "\n",
       "    .dataframe tbody tr th {\n",
       "        vertical-align: top;\n",
       "    }\n",
       "\n",
       "    .dataframe thead th {\n",
       "        text-align: right;\n",
       "    }\n",
       "</style>\n",
       "<table border=\"1\" class=\"dataframe\">\n",
       "  <thead>\n",
       "    <tr style=\"text-align: right;\">\n",
       "      <th>Complaint Type</th>\n",
       "      <th>Animal Abuse</th>\n",
       "      <th>Blocked Driveway</th>\n",
       "      <th>Derelict Vehicle</th>\n",
       "      <th>Disorderly Youth</th>\n",
       "      <th>Drinking</th>\n",
       "      <th>Graffiti</th>\n",
       "      <th>Illegal Parking</th>\n",
       "      <th>Noise - Commercial</th>\n",
       "      <th>Noise - House of Worship</th>\n",
       "      <th>Noise - Park</th>\n",
       "      <th>Noise - Street/Sidewalk</th>\n",
       "      <th>Noise - Vehicle</th>\n",
       "      <th>Posting Advertisement</th>\n",
       "      <th>Traffic</th>\n",
       "      <th>Vending</th>\n",
       "      <th>All</th>\n",
       "    </tr>\n",
       "    <tr>\n",
       "      <th>Location Type</th>\n",
       "      <th></th>\n",
       "      <th></th>\n",
       "      <th></th>\n",
       "      <th></th>\n",
       "      <th></th>\n",
       "      <th></th>\n",
       "      <th></th>\n",
       "      <th></th>\n",
       "      <th></th>\n",
       "      <th></th>\n",
       "      <th></th>\n",
       "      <th></th>\n",
       "      <th></th>\n",
       "      <th></th>\n",
       "      <th></th>\n",
       "      <th></th>\n",
       "    </tr>\n",
       "  </thead>\n",
       "  <tbody>\n",
       "    <tr>\n",
       "      <th>Club/Bar/Restaurant</th>\n",
       "      <td>0</td>\n",
       "      <td>0</td>\n",
       "      <td>0</td>\n",
       "      <td>0</td>\n",
       "      <td>365</td>\n",
       "      <td>0</td>\n",
       "      <td>0</td>\n",
       "      <td>16807</td>\n",
       "      <td>0</td>\n",
       "      <td>0</td>\n",
       "      <td>0</td>\n",
       "      <td>0</td>\n",
       "      <td>0</td>\n",
       "      <td>0</td>\n",
       "      <td>0</td>\n",
       "      <td>17172</td>\n",
       "    </tr>\n",
       "    <tr>\n",
       "      <th>Commercial</th>\n",
       "      <td>62</td>\n",
       "      <td>0</td>\n",
       "      <td>0</td>\n",
       "      <td>0</td>\n",
       "      <td>0</td>\n",
       "      <td>0</td>\n",
       "      <td>0</td>\n",
       "      <td>0</td>\n",
       "      <td>0</td>\n",
       "      <td>0</td>\n",
       "      <td>0</td>\n",
       "      <td>0</td>\n",
       "      <td>0</td>\n",
       "      <td>0</td>\n",
       "      <td>0</td>\n",
       "      <td>62</td>\n",
       "    </tr>\n",
       "    <tr>\n",
       "      <th>Highway</th>\n",
       "      <td>0</td>\n",
       "      <td>0</td>\n",
       "      <td>3</td>\n",
       "      <td>0</td>\n",
       "      <td>0</td>\n",
       "      <td>0</td>\n",
       "      <td>0</td>\n",
       "      <td>0</td>\n",
       "      <td>0</td>\n",
       "      <td>0</td>\n",
       "      <td>0</td>\n",
       "      <td>0</td>\n",
       "      <td>0</td>\n",
       "      <td>2</td>\n",
       "      <td>0</td>\n",
       "      <td>5</td>\n",
       "    </tr>\n",
       "    <tr>\n",
       "      <th>House and Store</th>\n",
       "      <td>93</td>\n",
       "      <td>0</td>\n",
       "      <td>0</td>\n",
       "      <td>0</td>\n",
       "      <td>0</td>\n",
       "      <td>0</td>\n",
       "      <td>0</td>\n",
       "      <td>0</td>\n",
       "      <td>0</td>\n",
       "      <td>0</td>\n",
       "      <td>0</td>\n",
       "      <td>0</td>\n",
       "      <td>0</td>\n",
       "      <td>0</td>\n",
       "      <td>0</td>\n",
       "      <td>93</td>\n",
       "    </tr>\n",
       "    <tr>\n",
       "      <th>House of Worship</th>\n",
       "      <td>0</td>\n",
       "      <td>0</td>\n",
       "      <td>0</td>\n",
       "      <td>0</td>\n",
       "      <td>0</td>\n",
       "      <td>0</td>\n",
       "      <td>0</td>\n",
       "      <td>0</td>\n",
       "      <td>920</td>\n",
       "      <td>0</td>\n",
       "      <td>0</td>\n",
       "      <td>0</td>\n",
       "      <td>0</td>\n",
       "      <td>0</td>\n",
       "      <td>0</td>\n",
       "      <td>920</td>\n",
       "    </tr>\n",
       "    <tr>\n",
       "      <th>Park/Playground</th>\n",
       "      <td>120</td>\n",
       "      <td>0</td>\n",
       "      <td>0</td>\n",
       "      <td>0</td>\n",
       "      <td>96</td>\n",
       "      <td>0</td>\n",
       "      <td>0</td>\n",
       "      <td>0</td>\n",
       "      <td>0</td>\n",
       "      <td>3927</td>\n",
       "      <td>0</td>\n",
       "      <td>0</td>\n",
       "      <td>0</td>\n",
       "      <td>0</td>\n",
       "      <td>103</td>\n",
       "      <td>4246</td>\n",
       "    </tr>\n",
       "    <tr>\n",
       "      <th>Parking Lot</th>\n",
       "      <td>109</td>\n",
       "      <td>0</td>\n",
       "      <td>0</td>\n",
       "      <td>0</td>\n",
       "      <td>0</td>\n",
       "      <td>0</td>\n",
       "      <td>0</td>\n",
       "      <td>0</td>\n",
       "      <td>0</td>\n",
       "      <td>0</td>\n",
       "      <td>0</td>\n",
       "      <td>0</td>\n",
       "      <td>7</td>\n",
       "      <td>0</td>\n",
       "      <td>0</td>\n",
       "      <td>116</td>\n",
       "    </tr>\n",
       "    <tr>\n",
       "      <th>Residential Building</th>\n",
       "      <td>226</td>\n",
       "      <td>0</td>\n",
       "      <td>0</td>\n",
       "      <td>0</td>\n",
       "      <td>0</td>\n",
       "      <td>0</td>\n",
       "      <td>0</td>\n",
       "      <td>0</td>\n",
       "      <td>0</td>\n",
       "      <td>0</td>\n",
       "      <td>0</td>\n",
       "      <td>0</td>\n",
       "      <td>0</td>\n",
       "      <td>0</td>\n",
       "      <td>0</td>\n",
       "      <td>226</td>\n",
       "    </tr>\n",
       "    <tr>\n",
       "      <th>Residential Building/House</th>\n",
       "      <td>5075</td>\n",
       "      <td>0</td>\n",
       "      <td>0</td>\n",
       "      <td>77</td>\n",
       "      <td>289</td>\n",
       "      <td>56</td>\n",
       "      <td>0</td>\n",
       "      <td>0</td>\n",
       "      <td>0</td>\n",
       "      <td>0</td>\n",
       "      <td>0</td>\n",
       "      <td>0</td>\n",
       "      <td>54</td>\n",
       "      <td>0</td>\n",
       "      <td>201</td>\n",
       "      <td>5752</td>\n",
       "    </tr>\n",
       "    <tr>\n",
       "      <th>Roadway Tunnel</th>\n",
       "      <td>0</td>\n",
       "      <td>0</td>\n",
       "      <td>5</td>\n",
       "      <td>0</td>\n",
       "      <td>0</td>\n",
       "      <td>0</td>\n",
       "      <td>0</td>\n",
       "      <td>0</td>\n",
       "      <td>0</td>\n",
       "      <td>0</td>\n",
       "      <td>0</td>\n",
       "      <td>0</td>\n",
       "      <td>0</td>\n",
       "      <td>0</td>\n",
       "      <td>0</td>\n",
       "      <td>5</td>\n",
       "    </tr>\n",
       "    <tr>\n",
       "      <th>Store/Commercial</th>\n",
       "      <td>520</td>\n",
       "      <td>0</td>\n",
       "      <td>0</td>\n",
       "      <td>8</td>\n",
       "      <td>90</td>\n",
       "      <td>32</td>\n",
       "      <td>0</td>\n",
       "      <td>18337</td>\n",
       "      <td>0</td>\n",
       "      <td>0</td>\n",
       "      <td>0</td>\n",
       "      <td>0</td>\n",
       "      <td>6</td>\n",
       "      <td>0</td>\n",
       "      <td>432</td>\n",
       "      <td>19425</td>\n",
       "    </tr>\n",
       "    <tr>\n",
       "      <th>Street/Sidewalk</th>\n",
       "      <td>1516</td>\n",
       "      <td>76675</td>\n",
       "      <td>17411</td>\n",
       "      <td>200</td>\n",
       "      <td>430</td>\n",
       "      <td>25</td>\n",
       "      <td>74020</td>\n",
       "      <td>0</td>\n",
       "      <td>0</td>\n",
       "      <td>0</td>\n",
       "      <td>47745</td>\n",
       "      <td>16867</td>\n",
       "      <td>580</td>\n",
       "      <td>4254</td>\n",
       "      <td>3037</td>\n",
       "      <td>242760</td>\n",
       "    </tr>\n",
       "    <tr>\n",
       "      <th>Subway Station</th>\n",
       "      <td>22</td>\n",
       "      <td>0</td>\n",
       "      <td>0</td>\n",
       "      <td>0</td>\n",
       "      <td>0</td>\n",
       "      <td>0</td>\n",
       "      <td>0</td>\n",
       "      <td>0</td>\n",
       "      <td>0</td>\n",
       "      <td>0</td>\n",
       "      <td>0</td>\n",
       "      <td>0</td>\n",
       "      <td>0</td>\n",
       "      <td>0</td>\n",
       "      <td>0</td>\n",
       "      <td>22</td>\n",
       "    </tr>\n",
       "    <tr>\n",
       "      <th>Vacant Lot</th>\n",
       "      <td>0</td>\n",
       "      <td>0</td>\n",
       "      <td>77</td>\n",
       "      <td>0</td>\n",
       "      <td>0</td>\n",
       "      <td>0</td>\n",
       "      <td>0</td>\n",
       "      <td>0</td>\n",
       "      <td>0</td>\n",
       "      <td>0</td>\n",
       "      <td>0</td>\n",
       "      <td>0</td>\n",
       "      <td>0</td>\n",
       "      <td>0</td>\n",
       "      <td>0</td>\n",
       "      <td>77</td>\n",
       "    </tr>\n",
       "    <tr>\n",
       "      <th>All</th>\n",
       "      <td>7743</td>\n",
       "      <td>76675</td>\n",
       "      <td>17496</td>\n",
       "      <td>285</td>\n",
       "      <td>1270</td>\n",
       "      <td>113</td>\n",
       "      <td>74020</td>\n",
       "      <td>35144</td>\n",
       "      <td>920</td>\n",
       "      <td>3927</td>\n",
       "      <td>47745</td>\n",
       "      <td>16867</td>\n",
       "      <td>647</td>\n",
       "      <td>4256</td>\n",
       "      <td>3773</td>\n",
       "      <td>290881</td>\n",
       "    </tr>\n",
       "  </tbody>\n",
       "</table>\n",
       "</div>"
      ],
      "text/plain": [
       "Complaint Type              Animal Abuse  Blocked Driveway  Derelict Vehicle  \\\n",
       "Location Type                                                                  \n",
       "Club/Bar/Restaurant                    0                 0                 0   \n",
       "Commercial                            62                 0                 0   \n",
       "Highway                                0                 0                 3   \n",
       "House and Store                       93                 0                 0   \n",
       "House of Worship                       0                 0                 0   \n",
       "Park/Playground                      120                 0                 0   \n",
       "Parking Lot                          109                 0                 0   \n",
       "Residential Building                 226                 0                 0   \n",
       "Residential Building/House          5075                 0                 0   \n",
       "Roadway Tunnel                         0                 0                 5   \n",
       "Store/Commercial                     520                 0                 0   \n",
       "Street/Sidewalk                     1516             76675             17411   \n",
       "Subway Station                        22                 0                 0   \n",
       "Vacant Lot                             0                 0                77   \n",
       "All                                 7743             76675             17496   \n",
       "\n",
       "Complaint Type              Disorderly Youth  Drinking  Graffiti  \\\n",
       "Location Type                                                      \n",
       "Club/Bar/Restaurant                        0       365         0   \n",
       "Commercial                                 0         0         0   \n",
       "Highway                                    0         0         0   \n",
       "House and Store                            0         0         0   \n",
       "House of Worship                           0         0         0   \n",
       "Park/Playground                            0        96         0   \n",
       "Parking Lot                                0         0         0   \n",
       "Residential Building                       0         0         0   \n",
       "Residential Building/House                77       289        56   \n",
       "Roadway Tunnel                             0         0         0   \n",
       "Store/Commercial                           8        90        32   \n",
       "Street/Sidewalk                          200       430        25   \n",
       "Subway Station                             0         0         0   \n",
       "Vacant Lot                                 0         0         0   \n",
       "All                                      285      1270       113   \n",
       "\n",
       "Complaint Type              Illegal Parking  Noise - Commercial  \\\n",
       "Location Type                                                     \n",
       "Club/Bar/Restaurant                       0               16807   \n",
       "Commercial                                0                   0   \n",
       "Highway                                   0                   0   \n",
       "House and Store                           0                   0   \n",
       "House of Worship                          0                   0   \n",
       "Park/Playground                           0                   0   \n",
       "Parking Lot                               0                   0   \n",
       "Residential Building                      0                   0   \n",
       "Residential Building/House                0                   0   \n",
       "Roadway Tunnel                            0                   0   \n",
       "Store/Commercial                          0               18337   \n",
       "Street/Sidewalk                       74020                   0   \n",
       "Subway Station                            0                   0   \n",
       "Vacant Lot                                0                   0   \n",
       "All                                   74020               35144   \n",
       "\n",
       "Complaint Type              Noise - House of Worship  Noise - Park  \\\n",
       "Location Type                                                        \n",
       "Club/Bar/Restaurant                                0             0   \n",
       "Commercial                                         0             0   \n",
       "Highway                                            0             0   \n",
       "House and Store                                    0             0   \n",
       "House of Worship                                 920             0   \n",
       "Park/Playground                                    0          3927   \n",
       "Parking Lot                                        0             0   \n",
       "Residential Building                               0             0   \n",
       "Residential Building/House                         0             0   \n",
       "Roadway Tunnel                                     0             0   \n",
       "Store/Commercial                                   0             0   \n",
       "Street/Sidewalk                                    0             0   \n",
       "Subway Station                                     0             0   \n",
       "Vacant Lot                                         0             0   \n",
       "All                                              920          3927   \n",
       "\n",
       "Complaint Type              Noise - Street/Sidewalk  Noise - Vehicle  \\\n",
       "Location Type                                                          \n",
       "Club/Bar/Restaurant                               0                0   \n",
       "Commercial                                        0                0   \n",
       "Highway                                           0                0   \n",
       "House and Store                                   0                0   \n",
       "House of Worship                                  0                0   \n",
       "Park/Playground                                   0                0   \n",
       "Parking Lot                                       0                0   \n",
       "Residential Building                              0                0   \n",
       "Residential Building/House                        0                0   \n",
       "Roadway Tunnel                                    0                0   \n",
       "Store/Commercial                                  0                0   \n",
       "Street/Sidewalk                               47745            16867   \n",
       "Subway Station                                    0                0   \n",
       "Vacant Lot                                        0                0   \n",
       "All                                           47745            16867   \n",
       "\n",
       "Complaint Type              Posting Advertisement  Traffic  Vending     All  \n",
       "Location Type                                                                \n",
       "Club/Bar/Restaurant                             0        0        0   17172  \n",
       "Commercial                                      0        0        0      62  \n",
       "Highway                                         0        2        0       5  \n",
       "House and Store                                 0        0        0      93  \n",
       "House of Worship                                0        0        0     920  \n",
       "Park/Playground                                 0        0      103    4246  \n",
       "Parking Lot                                     7        0        0     116  \n",
       "Residential Building                            0        0        0     226  \n",
       "Residential Building/House                     54        0      201    5752  \n",
       "Roadway Tunnel                                  0        0        0       5  \n",
       "Store/Commercial                                6        0      432   19425  \n",
       "Street/Sidewalk                               580     4254     3037  242760  \n",
       "Subway Station                                  0        0        0      22  \n",
       "Vacant Lot                                      0        0        0      77  \n",
       "All                                           647     4256     3773  290881  "
      ]
     },
     "execution_count": 139,
     "metadata": {},
     "output_type": "execute_result"
    }
   ],
   "source": [
    "pd.crosstab(df['Location Type'],df['Complaint Type'], margins=True)"
   ]
  },
  {
   "cell_type": "code",
   "execution_count": 149,
   "metadata": {},
   "outputs": [
    {
     "name": "stdout",
     "output_type": "stream",
     "text": [
      "1036031.2859946301\n",
      "0.0\n",
      "210\n"
     ]
    }
   ],
   "source": [
    "ch2,p_value,dof,exp_freq = stats.chi2_contingency(pd.crosstab(df['Location Type'],df['Complaint Type'], margins=True))\n",
    "print(ch2)\n",
    "print(p_value)\n",
    "print(dof)"
   ]
  },
  {
   "cell_type": "markdown",
   "metadata": {},
   "source": [
    "#### since alpha is less than 0.05. Hence , complaint or service requested and location related"
   ]
  },
  {
   "cell_type": "markdown",
   "metadata": {},
   "source": [
    "# Q.N 5) I.  average response time across complaint types is similar or not\n",
    "\n",
    "\n",
    "#### Hypothesis Testing:\n",
    " \n",
    "- H0: Average response time across complaint types is not similar \n",
    "\n",
    "  if p-val >0.05\n",
    "  \n",
    "  \n",
    "- HA: Average response time across complaint types is similar\n",
    "\n",
    "  if p-val <0.05"
   ]
  },
  {
   "cell_type": "code",
   "execution_count": 153,
   "metadata": {
    "collapsed": true
   },
   "outputs": [
    {
     "data": {
      "text/html": [
       "<div>\n",
       "<style scoped>\n",
       "    .dataframe tbody tr th:only-of-type {\n",
       "        vertical-align: middle;\n",
       "    }\n",
       "\n",
       "    .dataframe tbody tr th {\n",
       "        vertical-align: top;\n",
       "    }\n",
       "\n",
       "    .dataframe thead th {\n",
       "        text-align: right;\n",
       "    }\n",
       "</style>\n",
       "<table border=\"1\" class=\"dataframe\">\n",
       "  <thead>\n",
       "    <tr style=\"text-align: right;\">\n",
       "      <th></th>\n",
       "      <th>Unique Key</th>\n",
       "      <th>Created Date</th>\n",
       "      <th>Closed Date</th>\n",
       "      <th>Agency</th>\n",
       "      <th>Agency Name</th>\n",
       "      <th>Complaint Type</th>\n",
       "      <th>Descriptor</th>\n",
       "      <th>Location Type</th>\n",
       "      <th>Incident Zip</th>\n",
       "      <th>Incident Address</th>\n",
       "      <th>...</th>\n",
       "      <th>School Phone Number</th>\n",
       "      <th>School Address</th>\n",
       "      <th>School City</th>\n",
       "      <th>School State</th>\n",
       "      <th>School Zip</th>\n",
       "      <th>School Not Found</th>\n",
       "      <th>Latitude</th>\n",
       "      <th>Longitude</th>\n",
       "      <th>Location</th>\n",
       "      <th>Request_Closing_Time</th>\n",
       "    </tr>\n",
       "  </thead>\n",
       "  <tbody>\n",
       "    <tr>\n",
       "      <th>0</th>\n",
       "      <td>32310363</td>\n",
       "      <td>2015-12-31 23:59:45</td>\n",
       "      <td>2016-01-01 00:55:00</td>\n",
       "      <td>NYPD</td>\n",
       "      <td>New York City Police Department</td>\n",
       "      <td>Noise - Street/Sidewalk</td>\n",
       "      <td>Loud Music/Party</td>\n",
       "      <td>Street/Sidewalk</td>\n",
       "      <td>10034.0</td>\n",
       "      <td>71 VERMILYEA AVENUE</td>\n",
       "      <td>...</td>\n",
       "      <td>Unspecified</td>\n",
       "      <td>Unspecified</td>\n",
       "      <td>Unspecified</td>\n",
       "      <td>Unspecified</td>\n",
       "      <td>Unspecified</td>\n",
       "      <td>N</td>\n",
       "      <td>40.865682</td>\n",
       "      <td>-73.923501</td>\n",
       "      <td>(40.86568153633767, -73.92350095571744)</td>\n",
       "      <td>0.920833</td>\n",
       "    </tr>\n",
       "    <tr>\n",
       "      <th>1</th>\n",
       "      <td>32309934</td>\n",
       "      <td>2015-12-31 23:59:44</td>\n",
       "      <td>2016-01-01 01:26:00</td>\n",
       "      <td>NYPD</td>\n",
       "      <td>New York City Police Department</td>\n",
       "      <td>Blocked Driveway</td>\n",
       "      <td>No Access</td>\n",
       "      <td>Street/Sidewalk</td>\n",
       "      <td>11105.0</td>\n",
       "      <td>27-07 23 AVENUE</td>\n",
       "      <td>...</td>\n",
       "      <td>Unspecified</td>\n",
       "      <td>Unspecified</td>\n",
       "      <td>Unspecified</td>\n",
       "      <td>Unspecified</td>\n",
       "      <td>Unspecified</td>\n",
       "      <td>N</td>\n",
       "      <td>40.775945</td>\n",
       "      <td>-73.915094</td>\n",
       "      <td>(40.775945312321085, -73.91509393898605)</td>\n",
       "      <td>1.437778</td>\n",
       "    </tr>\n",
       "    <tr>\n",
       "      <th>2</th>\n",
       "      <td>32309159</td>\n",
       "      <td>2015-12-31 23:59:29</td>\n",
       "      <td>2016-01-01 04:51:00</td>\n",
       "      <td>NYPD</td>\n",
       "      <td>New York City Police Department</td>\n",
       "      <td>Blocked Driveway</td>\n",
       "      <td>No Access</td>\n",
       "      <td>Street/Sidewalk</td>\n",
       "      <td>10458.0</td>\n",
       "      <td>2897 VALENTINE AVENUE</td>\n",
       "      <td>...</td>\n",
       "      <td>Unspecified</td>\n",
       "      <td>Unspecified</td>\n",
       "      <td>Unspecified</td>\n",
       "      <td>Unspecified</td>\n",
       "      <td>Unspecified</td>\n",
       "      <td>N</td>\n",
       "      <td>40.870325</td>\n",
       "      <td>-73.888525</td>\n",
       "      <td>(40.870324522111424, -73.88852464418646)</td>\n",
       "      <td>4.858611</td>\n",
       "    </tr>\n",
       "    <tr>\n",
       "      <th>3</th>\n",
       "      <td>32305098</td>\n",
       "      <td>2015-12-31 23:57:46</td>\n",
       "      <td>2016-01-01 07:43:00</td>\n",
       "      <td>NYPD</td>\n",
       "      <td>New York City Police Department</td>\n",
       "      <td>Illegal Parking</td>\n",
       "      <td>Commercial Overnight Parking</td>\n",
       "      <td>Street/Sidewalk</td>\n",
       "      <td>10461.0</td>\n",
       "      <td>2940 BAISLEY AVENUE</td>\n",
       "      <td>...</td>\n",
       "      <td>Unspecified</td>\n",
       "      <td>Unspecified</td>\n",
       "      <td>Unspecified</td>\n",
       "      <td>Unspecified</td>\n",
       "      <td>Unspecified</td>\n",
       "      <td>N</td>\n",
       "      <td>40.835994</td>\n",
       "      <td>-73.828379</td>\n",
       "      <td>(40.83599404683083, -73.82837939584206)</td>\n",
       "      <td>7.753889</td>\n",
       "    </tr>\n",
       "    <tr>\n",
       "      <th>4</th>\n",
       "      <td>32306529</td>\n",
       "      <td>2015-12-31 23:56:58</td>\n",
       "      <td>2016-01-01 03:24:00</td>\n",
       "      <td>NYPD</td>\n",
       "      <td>New York City Police Department</td>\n",
       "      <td>Illegal Parking</td>\n",
       "      <td>Blocked Sidewalk</td>\n",
       "      <td>Street/Sidewalk</td>\n",
       "      <td>11373.0</td>\n",
       "      <td>87-14 57 ROAD</td>\n",
       "      <td>...</td>\n",
       "      <td>Unspecified</td>\n",
       "      <td>Unspecified</td>\n",
       "      <td>Unspecified</td>\n",
       "      <td>Unspecified</td>\n",
       "      <td>Unspecified</td>\n",
       "      <td>N</td>\n",
       "      <td>40.733060</td>\n",
       "      <td>-73.874170</td>\n",
       "      <td>(40.733059618956815, -73.87416975810375)</td>\n",
       "      <td>3.450556</td>\n",
       "    </tr>\n",
       "  </tbody>\n",
       "</table>\n",
       "<p>5 rows × 40 columns</p>\n",
       "</div>"
      ],
      "text/plain": [
       "   Unique Key        Created Date         Closed Date Agency  \\\n",
       "0    32310363 2015-12-31 23:59:45 2016-01-01 00:55:00   NYPD   \n",
       "1    32309934 2015-12-31 23:59:44 2016-01-01 01:26:00   NYPD   \n",
       "2    32309159 2015-12-31 23:59:29 2016-01-01 04:51:00   NYPD   \n",
       "3    32305098 2015-12-31 23:57:46 2016-01-01 07:43:00   NYPD   \n",
       "4    32306529 2015-12-31 23:56:58 2016-01-01 03:24:00   NYPD   \n",
       "\n",
       "                       Agency Name           Complaint Type  \\\n",
       "0  New York City Police Department  Noise - Street/Sidewalk   \n",
       "1  New York City Police Department         Blocked Driveway   \n",
       "2  New York City Police Department         Blocked Driveway   \n",
       "3  New York City Police Department          Illegal Parking   \n",
       "4  New York City Police Department          Illegal Parking   \n",
       "\n",
       "                     Descriptor    Location Type  Incident Zip  \\\n",
       "0              Loud Music/Party  Street/Sidewalk       10034.0   \n",
       "1                     No Access  Street/Sidewalk       11105.0   \n",
       "2                     No Access  Street/Sidewalk       10458.0   \n",
       "3  Commercial Overnight Parking  Street/Sidewalk       10461.0   \n",
       "4              Blocked Sidewalk  Street/Sidewalk       11373.0   \n",
       "\n",
       "        Incident Address  ... School Phone Number School Address  School City  \\\n",
       "0    71 VERMILYEA AVENUE  ...         Unspecified    Unspecified  Unspecified   \n",
       "1        27-07 23 AVENUE  ...         Unspecified    Unspecified  Unspecified   \n",
       "2  2897 VALENTINE AVENUE  ...         Unspecified    Unspecified  Unspecified   \n",
       "3    2940 BAISLEY AVENUE  ...         Unspecified    Unspecified  Unspecified   \n",
       "4          87-14 57 ROAD  ...         Unspecified    Unspecified  Unspecified   \n",
       "\n",
       "  School State   School Zip School Not Found   Latitude  Longitude  \\\n",
       "0  Unspecified  Unspecified                N  40.865682 -73.923501   \n",
       "1  Unspecified  Unspecified                N  40.775945 -73.915094   \n",
       "2  Unspecified  Unspecified                N  40.870325 -73.888525   \n",
       "3  Unspecified  Unspecified                N  40.835994 -73.828379   \n",
       "4  Unspecified  Unspecified                N  40.733060 -73.874170   \n",
       "\n",
       "                                   Location Request_Closing_Time  \n",
       "0   (40.86568153633767, -73.92350095571744)             0.920833  \n",
       "1  (40.775945312321085, -73.91509393898605)             1.437778  \n",
       "2  (40.870324522111424, -73.88852464418646)             4.858611  \n",
       "3   (40.83599404683083, -73.82837939584206)             7.753889  \n",
       "4  (40.733059618956815, -73.87416975810375)             3.450556  \n",
       "\n",
       "[5 rows x 40 columns]"
      ]
     },
     "execution_count": 153,
     "metadata": {},
     "output_type": "execute_result"
    }
   ],
   "source": [
    "df.head()"
   ]
  },
  {
   "cell_type": "code",
   "execution_count": 199,
   "metadata": {},
   "outputs": [],
   "source": [
    "df['Complaint Type'].value_counts().head()\n",
    "Top5_Complaints_type = df['Complaint Type'].value_counts().head()"
   ]
  },
  {
   "cell_type": "code",
   "execution_count": 200,
   "metadata": {},
   "outputs": [],
   "source": [
    "Top5_Complaints_type_names = Top5_Complaints_type.index"
   ]
  },
  {
   "cell_type": "code",
   "execution_count": 201,
   "metadata": {},
   "outputs": [
    {
     "data": {
      "text/plain": [
       "Index(['Blocked Driveway', 'Illegal Parking', 'Noise - Street/Sidewalk',\n",
       "       'Noise - Commercial', 'Derelict Vehicle'],\n",
       "      dtype='object')"
      ]
     },
     "execution_count": 201,
     "metadata": {},
     "output_type": "execute_result"
    }
   ],
   "source": [
    "Top5_Complaints_type_names"
   ]
  },
  {
   "cell_type": "code",
   "execution_count": 204,
   "metadata": {},
   "outputs": [
    {
     "data": {
      "text/html": [
       "<div>\n",
       "<style scoped>\n",
       "    .dataframe tbody tr th:only-of-type {\n",
       "        vertical-align: middle;\n",
       "    }\n",
       "\n",
       "    .dataframe tbody tr th {\n",
       "        vertical-align: top;\n",
       "    }\n",
       "\n",
       "    .dataframe thead th {\n",
       "        text-align: right;\n",
       "    }\n",
       "</style>\n",
       "<table border=\"1\" class=\"dataframe\">\n",
       "  <thead>\n",
       "    <tr style=\"text-align: right;\">\n",
       "      <th></th>\n",
       "      <th>Complaint Type</th>\n",
       "      <th>Request_Closing_Time</th>\n",
       "    </tr>\n",
       "  </thead>\n",
       "  <tbody>\n",
       "    <tr>\n",
       "      <th>0</th>\n",
       "      <td>Noise - Street/Sidewalk</td>\n",
       "      <td>0.920833</td>\n",
       "    </tr>\n",
       "    <tr>\n",
       "      <th>1</th>\n",
       "      <td>Blocked Driveway</td>\n",
       "      <td>1.437778</td>\n",
       "    </tr>\n",
       "    <tr>\n",
       "      <th>2</th>\n",
       "      <td>Blocked Driveway</td>\n",
       "      <td>4.858611</td>\n",
       "    </tr>\n",
       "    <tr>\n",
       "      <th>3</th>\n",
       "      <td>Illegal Parking</td>\n",
       "      <td>7.753889</td>\n",
       "    </tr>\n",
       "    <tr>\n",
       "      <th>4</th>\n",
       "      <td>Illegal Parking</td>\n",
       "      <td>3.450556</td>\n",
       "    </tr>\n",
       "  </tbody>\n",
       "</table>\n",
       "</div>"
      ],
      "text/plain": [
       "            Complaint Type  Request_Closing_Time\n",
       "0  Noise - Street/Sidewalk              0.920833\n",
       "1         Blocked Driveway              1.437778\n",
       "2         Blocked Driveway              4.858611\n",
       "3          Illegal Parking              7.753889\n",
       "4          Illegal Parking              3.450556"
      ]
     },
     "execution_count": 204,
     "metadata": {},
     "output_type": "execute_result"
    }
   ],
   "source": [
    "data = df.loc[df['Complaint Type'].isin(Top5_Complaints_type_names),['Complaint Type', 'Request_Closing_Time']]\n",
    "data.head()"
   ]
  },
  {
   "cell_type": "code",
   "execution_count": 207,
   "metadata": {},
   "outputs": [
    {
     "data": {
      "text/plain": [
       "1     1.437778\n",
       "2     4.858611\n",
       "7     1.798611\n",
       "9     1.383889\n",
       "10    7.800556\n",
       "Name: Request_Closing_Time, dtype: float64"
      ]
     },
     "execution_count": 207,
     "metadata": {},
     "output_type": "execute_result"
    }
   ],
   "source": [
    "d1 = df[df['Complaint Type']== Top5_Complaints_type_names[0]].Request_Closing_Time\n",
    "d1.head()"
   ]
  },
  {
   "cell_type": "code",
   "execution_count": 208,
   "metadata": {},
   "outputs": [
    {
     "data": {
      "text/plain": [
       "3    7.753889\n",
       "4    3.450556\n",
       "5    1.891667\n",
       "6    1.957778\n",
       "8    8.550556\n",
       "Name: Request_Closing_Time, dtype: float64"
      ]
     },
     "execution_count": 208,
     "metadata": {},
     "output_type": "execute_result"
    }
   ],
   "source": [
    "d2 = df[df['Complaint Type']== Top5_Complaints_type_names[1]].Request_Closing_Time\n",
    "d2.head()"
   ]
  },
  {
   "cell_type": "code",
   "execution_count": 209,
   "metadata": {},
   "outputs": [
    {
     "data": {
      "text/plain": [
       "0     0.920833\n",
       "12    2.482500\n",
       "19    0.784722\n",
       "38    0.491111\n",
       "54    1.495556\n",
       "Name: Request_Closing_Time, dtype: float64"
      ]
     },
     "execution_count": 209,
     "metadata": {},
     "output_type": "execute_result"
    }
   ],
   "source": [
    "d3 = df[df['Complaint Type']== Top5_Complaints_type_names[2]].Request_Closing_Time\n",
    "d3.head()"
   ]
  },
  {
   "cell_type": "code",
   "execution_count": 210,
   "metadata": {},
   "outputs": [
    {
     "data": {
      "text/plain": [
       "17    0.852222\n",
       "18    2.933611\n",
       "22    1.261667\n",
       "29    2.499722\n",
       "30    1.985833\n",
       "Name: Request_Closing_Time, dtype: float64"
      ]
     },
     "execution_count": 210,
     "metadata": {},
     "output_type": "execute_result"
    }
   ],
   "source": [
    "d4 = df[df['Complaint Type']== Top5_Complaints_type_names[3]].Request_Closing_Time\n",
    "d4.head()"
   ]
  },
  {
   "cell_type": "code",
   "execution_count": 211,
   "metadata": {},
   "outputs": [
    {
     "data": {
      "text/plain": [
       "14     10.489722\n",
       "151     3.950278\n",
       "255     1.364722\n",
       "256     4.133056\n",
       "295     0.753333\n",
       "Name: Request_Closing_Time, dtype: float64"
      ]
     },
     "execution_count": 211,
     "metadata": {},
     "output_type": "execute_result"
    }
   ],
   "source": [
    "d5 = df[df['Complaint Type']== Top5_Complaints_type_names[4]].Request_Closing_Time\n",
    "d5.head()"
   ]
  },
  {
   "cell_type": "code",
   "execution_count": 212,
   "metadata": {},
   "outputs": [
    {
     "data": {
      "text/plain": [
       "F_onewayResult(statistic=2080.3676275129005, pvalue=0.0)"
      ]
     },
     "execution_count": 212,
     "metadata": {},
     "output_type": "execute_result"
    }
   ],
   "source": [
    "stats.f_oneway(d1,d2,d3,d4,d5)"
   ]
  },
  {
   "cell_type": "markdown",
   "metadata": {},
   "source": [
    "#### Here we can observe that p-value is less than 0.05, so we reject the null hypothesis and accept the alternate hypothesis. Hence we can say that response time across complaint type is not similar."
   ]
  },
  {
   "cell_type": "code",
   "execution_count": null,
   "metadata": {},
   "outputs": [],
   "source": []
  },
  {
   "cell_type": "code",
   "execution_count": null,
   "metadata": {},
   "outputs": [],
   "source": []
  }
 ],
 "metadata": {
  "kernelspec": {
   "display_name": "Python 3",
   "language": "python",
   "name": "python3"
  },
  "language_info": {
   "codemirror_mode": {
    "name": "ipython",
    "version": 3
   },
   "file_extension": ".py",
   "mimetype": "text/x-python",
   "name": "python",
   "nbconvert_exporter": "python",
   "pygments_lexer": "ipython3",
   "version": "3.8.8"
  }
 },
 "nbformat": 4,
 "nbformat_minor": 4
}
